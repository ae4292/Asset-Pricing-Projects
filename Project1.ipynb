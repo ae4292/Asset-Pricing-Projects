{
 "cells": [
  {
   "cell_type": "markdown",
   "metadata": {},
   "source": [
    "# IEOR 223 Iron Condor SPX Options Code"
   ]
  },
  {
   "cell_type": "code",
   "execution_count": 152,
   "metadata": {},
   "outputs": [],
   "source": [
    "import pandas as pd\n",
    "import numpy as np\n",
    "from datetime import datetime\n",
    "index = pd.read_csv('SPX-index.csv')\n",
    "options = pd.read_csv('SPX-options.csv')"
   ]
  },
  {
   "cell_type": "markdown",
   "metadata": {},
   "source": [
    "## Data Cleaning and Analysis"
   ]
  },
  {
   "cell_type": "code",
   "execution_count": 153,
   "metadata": {},
   "outputs": [
    {
     "data": {
      "text/html": [
       "<div>\n",
       "<style scoped>\n",
       "    .dataframe tbody tr th:only-of-type {\n",
       "        vertical-align: middle;\n",
       "    }\n",
       "\n",
       "    .dataframe tbody tr th {\n",
       "        vertical-align: top;\n",
       "    }\n",
       "\n",
       "    .dataframe thead th {\n",
       "        text-align: right;\n",
       "    }\n",
       "</style>\n",
       "<table border=\"1\" class=\"dataframe\">\n",
       "  <thead>\n",
       "    <tr style=\"text-align: right;\">\n",
       "      <th></th>\n",
       "      <th>date</th>\n",
       "      <th>low</th>\n",
       "      <th>high</th>\n",
       "      <th>open</th>\n",
       "      <th>close</th>\n",
       "      <th>closest_strike</th>\n",
       "    </tr>\n",
       "  </thead>\n",
       "  <tbody>\n",
       "    <tr>\n",
       "      <th>0</th>\n",
       "      <td>2001-01-02</td>\n",
       "      <td>1276.05</td>\n",
       "      <td>1320.28</td>\n",
       "      <td>1320.28</td>\n",
       "      <td>1283.27</td>\n",
       "      <td>1285.0</td>\n",
       "    </tr>\n",
       "    <tr>\n",
       "      <th>1</th>\n",
       "      <td>2001-01-03</td>\n",
       "      <td>1274.62</td>\n",
       "      <td>1347.76</td>\n",
       "      <td>1283.27</td>\n",
       "      <td>1347.56</td>\n",
       "      <td>1350.0</td>\n",
       "    </tr>\n",
       "    <tr>\n",
       "      <th>2</th>\n",
       "      <td>2001-01-04</td>\n",
       "      <td>1329.14</td>\n",
       "      <td>1350.24</td>\n",
       "      <td>1347.56</td>\n",
       "      <td>1333.34</td>\n",
       "      <td>1335.0</td>\n",
       "    </tr>\n",
       "    <tr>\n",
       "      <th>3</th>\n",
       "      <td>2001-01-05</td>\n",
       "      <td>1294.95</td>\n",
       "      <td>1334.77</td>\n",
       "      <td>1333.34</td>\n",
       "      <td>1298.35</td>\n",
       "      <td>1300.0</td>\n",
       "    </tr>\n",
       "    <tr>\n",
       "      <th>4</th>\n",
       "      <td>2001-01-08</td>\n",
       "      <td>1276.29</td>\n",
       "      <td>1298.35</td>\n",
       "      <td>1298.35</td>\n",
       "      <td>1295.86</td>\n",
       "      <td>1295.0</td>\n",
       "    </tr>\n",
       "  </tbody>\n",
       "</table>\n",
       "</div>"
      ],
      "text/plain": [
       "        date      low     high     open    close  closest_strike\n",
       "0 2001-01-02  1276.05  1320.28  1320.28  1283.27          1285.0\n",
       "1 2001-01-03  1274.62  1347.76  1283.27  1347.56          1350.0\n",
       "2 2001-01-04  1329.14  1350.24  1347.56  1333.34          1335.0\n",
       "3 2001-01-05  1294.95  1334.77  1333.34  1298.35          1300.0\n",
       "4 2001-01-08  1276.29  1298.35  1298.35  1295.86          1295.0"
      ]
     },
     "execution_count": 153,
     "metadata": {},
     "output_type": "execute_result"
    }
   ],
   "source": [
    "index = index.drop(['ticker', 'secid'],axis =1)\n",
    "index['date'] = index['date'].apply(lambda x : datetime.strptime(x,'%Y-%m-%d'))\n",
    "index['closest_strike'] = np.round(index['close']/5)*5\n",
    "index.head()"
   ]
  },
  {
   "cell_type": "code",
   "execution_count": 154,
   "metadata": {},
   "outputs": [
    {
     "data": {
      "text/html": [
       "<div>\n",
       "<style scoped>\n",
       "    .dataframe tbody tr th:only-of-type {\n",
       "        vertical-align: middle;\n",
       "    }\n",
       "\n",
       "    .dataframe tbody tr th {\n",
       "        vertical-align: top;\n",
       "    }\n",
       "\n",
       "    .dataframe thead th {\n",
       "        text-align: right;\n",
       "    }\n",
       "</style>\n",
       "<table border=\"1\" class=\"dataframe\">\n",
       "  <thead>\n",
       "    <tr style=\"text-align: right;\">\n",
       "      <th></th>\n",
       "      <th>date</th>\n",
       "      <th>exdate</th>\n",
       "      <th>last_date</th>\n",
       "      <th>cp_flag</th>\n",
       "      <th>strike_price</th>\n",
       "      <th>best_bid</th>\n",
       "      <th>best_offer</th>\n",
       "      <th>volume</th>\n",
       "      <th>open_interest</th>\n",
       "      <th>am_settlement</th>\n",
       "      <th>contract_size</th>\n",
       "      <th>expiry_indicator</th>\n",
       "    </tr>\n",
       "  </thead>\n",
       "  <tbody>\n",
       "    <tr>\n",
       "      <th>0</th>\n",
       "      <td>2010-02-12</td>\n",
       "      <td>2010-02-20</td>\n",
       "      <td>2010-02-12</td>\n",
       "      <td>C</td>\n",
       "      <td>1000.0</td>\n",
       "      <td>73.8</td>\n",
       "      <td>76.8</td>\n",
       "      <td>13</td>\n",
       "      <td>884</td>\n",
       "      <td>1</td>\n",
       "      <td>100</td>\n",
       "      <td>NaN</td>\n",
       "    </tr>\n",
       "    <tr>\n",
       "      <th>1</th>\n",
       "      <td>2010-02-12</td>\n",
       "      <td>2010-02-20</td>\n",
       "      <td>2010-02-11</td>\n",
       "      <td>C</td>\n",
       "      <td>1005.0</td>\n",
       "      <td>68.9</td>\n",
       "      <td>71.9</td>\n",
       "      <td>0</td>\n",
       "      <td>44</td>\n",
       "      <td>1</td>\n",
       "      <td>100</td>\n",
       "      <td>NaN</td>\n",
       "    </tr>\n",
       "    <tr>\n",
       "      <th>2</th>\n",
       "      <td>2010-02-12</td>\n",
       "      <td>2010-02-20</td>\n",
       "      <td>2010-02-09</td>\n",
       "      <td>C</td>\n",
       "      <td>1010.0</td>\n",
       "      <td>64.0</td>\n",
       "      <td>67.0</td>\n",
       "      <td>0</td>\n",
       "      <td>42</td>\n",
       "      <td>1</td>\n",
       "      <td>100</td>\n",
       "      <td>NaN</td>\n",
       "    </tr>\n",
       "    <tr>\n",
       "      <th>3</th>\n",
       "      <td>2010-02-12</td>\n",
       "      <td>2010-02-20</td>\n",
       "      <td>2010-02-08</td>\n",
       "      <td>C</td>\n",
       "      <td>1015.0</td>\n",
       "      <td>59.2</td>\n",
       "      <td>62.2</td>\n",
       "      <td>0</td>\n",
       "      <td>47</td>\n",
       "      <td>1</td>\n",
       "      <td>100</td>\n",
       "      <td>NaN</td>\n",
       "    </tr>\n",
       "    <tr>\n",
       "      <th>4</th>\n",
       "      <td>2010-02-12</td>\n",
       "      <td>2010-02-20</td>\n",
       "      <td>2010-02-12</td>\n",
       "      <td>C</td>\n",
       "      <td>1020.0</td>\n",
       "      <td>54.4</td>\n",
       "      <td>57.4</td>\n",
       "      <td>2</td>\n",
       "      <td>150</td>\n",
       "      <td>1</td>\n",
       "      <td>100</td>\n",
       "      <td>NaN</td>\n",
       "    </tr>\n",
       "  </tbody>\n",
       "</table>\n",
       "</div>"
      ],
      "text/plain": [
       "        date     exdate   last_date cp_flag  strike_price  best_bid  \\\n",
       "0 2010-02-12 2010-02-20  2010-02-12       C        1000.0      73.8   \n",
       "1 2010-02-12 2010-02-20  2010-02-11       C        1005.0      68.9   \n",
       "2 2010-02-12 2010-02-20  2010-02-09       C        1010.0      64.0   \n",
       "3 2010-02-12 2010-02-20  2010-02-08       C        1015.0      59.2   \n",
       "4 2010-02-12 2010-02-20  2010-02-12       C        1020.0      54.4   \n",
       "\n",
       "   best_offer  volume  open_interest  am_settlement  contract_size  \\\n",
       "0        76.8      13            884              1            100   \n",
       "1        71.9       0             44              1            100   \n",
       "2        67.0       0             42              1            100   \n",
       "3        62.2       0             47              1            100   \n",
       "4        57.4       2            150              1            100   \n",
       "\n",
       "  expiry_indicator  \n",
       "0              NaN  \n",
       "1              NaN  \n",
       "2              NaN  \n",
       "3              NaN  \n",
       "4              NaN  "
      ]
     },
     "execution_count": 154,
     "metadata": {},
     "output_type": "execute_result"
    }
   ],
   "source": [
    "from datetime import datetime\n",
    "options1 = options.drop(['symbol','ticker','exercise_style','optionid'],axis=1)\n",
    "options1['strike_price'] = options['strike_price'] / 1000\n",
    "\n",
    "options1['date'] = options['date'].apply(lambda x : datetime.strptime(x,'%Y-%m-%d'))\n",
    "options1['exdate'] = options['exdate'].apply(lambda x : datetime.strptime(x,'%Y-%m-%d'))\n",
    "\n",
    "options1.head()"
   ]
  },
  {
   "cell_type": "code",
   "execution_count": 155,
   "metadata": {},
   "outputs": [
    {
     "data": {
      "text/html": [
       "<div>\n",
       "<style scoped>\n",
       "    .dataframe tbody tr th:only-of-type {\n",
       "        vertical-align: middle;\n",
       "    }\n",
       "\n",
       "    .dataframe tbody tr th {\n",
       "        vertical-align: top;\n",
       "    }\n",
       "\n",
       "    .dataframe thead th {\n",
       "        text-align: right;\n",
       "    }\n",
       "</style>\n",
       "<table border=\"1\" class=\"dataframe\">\n",
       "  <thead>\n",
       "    <tr style=\"text-align: right;\">\n",
       "      <th></th>\n",
       "      <th>date</th>\n",
       "      <th>exdate</th>\n",
       "      <th>last_date</th>\n",
       "      <th>cp_flag</th>\n",
       "      <th>strike_price</th>\n",
       "      <th>best_bid</th>\n",
       "      <th>best_offer</th>\n",
       "      <th>volume</th>\n",
       "      <th>open_interest</th>\n",
       "      <th>am_settlement</th>\n",
       "      <th>contract_size</th>\n",
       "      <th>expiry_indicator</th>\n",
       "      <th>spread</th>\n",
       "      <th>mid_price</th>\n",
       "      <th>time_to_exp</th>\n",
       "      <th>weekday</th>\n",
       "      <th>month</th>\n",
       "      <th>year</th>\n",
       "    </tr>\n",
       "  </thead>\n",
       "  <tbody>\n",
       "    <tr>\n",
       "      <th>0</th>\n",
       "      <td>2010-02-12</td>\n",
       "      <td>2010-02-20</td>\n",
       "      <td>2010-02-12</td>\n",
       "      <td>C</td>\n",
       "      <td>1000.0</td>\n",
       "      <td>73.8</td>\n",
       "      <td>76.8</td>\n",
       "      <td>13</td>\n",
       "      <td>884</td>\n",
       "      <td>1</td>\n",
       "      <td>100</td>\n",
       "      <td>NaN</td>\n",
       "      <td>3.0</td>\n",
       "      <td>75.3</td>\n",
       "      <td>8 days</td>\n",
       "      <td>4</td>\n",
       "      <td>2</td>\n",
       "      <td>2010</td>\n",
       "    </tr>\n",
       "    <tr>\n",
       "      <th>1</th>\n",
       "      <td>2010-02-12</td>\n",
       "      <td>2010-02-20</td>\n",
       "      <td>2010-02-11</td>\n",
       "      <td>C</td>\n",
       "      <td>1005.0</td>\n",
       "      <td>68.9</td>\n",
       "      <td>71.9</td>\n",
       "      <td>0</td>\n",
       "      <td>44</td>\n",
       "      <td>1</td>\n",
       "      <td>100</td>\n",
       "      <td>NaN</td>\n",
       "      <td>3.0</td>\n",
       "      <td>70.4</td>\n",
       "      <td>8 days</td>\n",
       "      <td>4</td>\n",
       "      <td>2</td>\n",
       "      <td>2010</td>\n",
       "    </tr>\n",
       "    <tr>\n",
       "      <th>2</th>\n",
       "      <td>2010-02-12</td>\n",
       "      <td>2010-02-20</td>\n",
       "      <td>2010-02-09</td>\n",
       "      <td>C</td>\n",
       "      <td>1010.0</td>\n",
       "      <td>64.0</td>\n",
       "      <td>67.0</td>\n",
       "      <td>0</td>\n",
       "      <td>42</td>\n",
       "      <td>1</td>\n",
       "      <td>100</td>\n",
       "      <td>NaN</td>\n",
       "      <td>3.0</td>\n",
       "      <td>65.5</td>\n",
       "      <td>8 days</td>\n",
       "      <td>4</td>\n",
       "      <td>2</td>\n",
       "      <td>2010</td>\n",
       "    </tr>\n",
       "    <tr>\n",
       "      <th>3</th>\n",
       "      <td>2010-02-12</td>\n",
       "      <td>2010-02-20</td>\n",
       "      <td>2010-02-08</td>\n",
       "      <td>C</td>\n",
       "      <td>1015.0</td>\n",
       "      <td>59.2</td>\n",
       "      <td>62.2</td>\n",
       "      <td>0</td>\n",
       "      <td>47</td>\n",
       "      <td>1</td>\n",
       "      <td>100</td>\n",
       "      <td>NaN</td>\n",
       "      <td>3.0</td>\n",
       "      <td>60.7</td>\n",
       "      <td>8 days</td>\n",
       "      <td>4</td>\n",
       "      <td>2</td>\n",
       "      <td>2010</td>\n",
       "    </tr>\n",
       "    <tr>\n",
       "      <th>4</th>\n",
       "      <td>2010-02-12</td>\n",
       "      <td>2010-02-20</td>\n",
       "      <td>2010-02-12</td>\n",
       "      <td>C</td>\n",
       "      <td>1020.0</td>\n",
       "      <td>54.4</td>\n",
       "      <td>57.4</td>\n",
       "      <td>2</td>\n",
       "      <td>150</td>\n",
       "      <td>1</td>\n",
       "      <td>100</td>\n",
       "      <td>NaN</td>\n",
       "      <td>3.0</td>\n",
       "      <td>55.9</td>\n",
       "      <td>8 days</td>\n",
       "      <td>4</td>\n",
       "      <td>2</td>\n",
       "      <td>2010</td>\n",
       "    </tr>\n",
       "  </tbody>\n",
       "</table>\n",
       "</div>"
      ],
      "text/plain": [
       "        date     exdate   last_date cp_flag  strike_price  best_bid  \\\n",
       "0 2010-02-12 2010-02-20  2010-02-12       C        1000.0      73.8   \n",
       "1 2010-02-12 2010-02-20  2010-02-11       C        1005.0      68.9   \n",
       "2 2010-02-12 2010-02-20  2010-02-09       C        1010.0      64.0   \n",
       "3 2010-02-12 2010-02-20  2010-02-08       C        1015.0      59.2   \n",
       "4 2010-02-12 2010-02-20  2010-02-12       C        1020.0      54.4   \n",
       "\n",
       "   best_offer  volume  open_interest  am_settlement  contract_size  \\\n",
       "0        76.8      13            884              1            100   \n",
       "1        71.9       0             44              1            100   \n",
       "2        67.0       0             42              1            100   \n",
       "3        62.2       0             47              1            100   \n",
       "4        57.4       2            150              1            100   \n",
       "\n",
       "  expiry_indicator  spread  mid_price time_to_exp  weekday  month  year  \n",
       "0              NaN     3.0       75.3      8 days        4      2  2010  \n",
       "1              NaN     3.0       70.4      8 days        4      2  2010  \n",
       "2              NaN     3.0       65.5      8 days        4      2  2010  \n",
       "3              NaN     3.0       60.7      8 days        4      2  2010  \n",
       "4              NaN     3.0       55.9      8 days        4      2  2010  "
      ]
     },
     "execution_count": 155,
     "metadata": {},
     "output_type": "execute_result"
    }
   ],
   "source": [
    "options1['spread'] = options['best_offer'] - options['best_bid']\n",
    "options1['mid_price'] = (options['best_offer'] + options['best_bid']) / 2\n",
    "options1['time_to_exp'] = options1['exdate'] - options1['date']\n",
    "options1['weekday'] = options1['date'].apply(lambda x: x.weekday())\n",
    "options1['month'] = options1['date'].apply(lambda x: x.month)\n",
    "options1['year'] = options1['date'].apply(lambda x: x.year)\n",
    "options1.head()"
   ]
  },
  {
   "cell_type": "code",
   "execution_count": 156,
   "metadata": {},
   "outputs": [
    {
     "data": {
      "text/plain": [
       "2923.2594443376684"
      ]
     },
     "execution_count": 156,
     "metadata": {},
     "output_type": "execute_result"
    }
   ],
   "source": [
    "np.mean(options1['strike_price'])"
   ]
  },
  {
   "cell_type": "code",
   "execution_count": 157,
   "metadata": {},
   "outputs": [
    {
     "data": {
      "text/plain": [
       "Text(0.5, 1.0, 'Distribution of Days to Expiration')"
      ]
     },
     "execution_count": 157,
     "metadata": {},
     "output_type": "execute_result"
    },
    {
     "data": {
      "image/png": "[encoded data removed]",
      "text/plain": [
       "<Figure size 640x480 with 1 Axes>"
      ]
     },
     "metadata": {},
     "output_type": "display_data"
    }
   ],
   "source": [
    "import matplotlib.pyplot as plt\n",
    "plt.hist(options1['time_to_exp'].dt.days, edgecolor = 'black', bins=15)\n",
    "plt.xlabel('Days to Expiration')\n",
    "plt.ylabel('Count')\n",
    "plt.title('Distribution of Days to Expiration')"
   ]
  },
  {
   "cell_type": "code",
   "execution_count": 158,
   "metadata": {},
   "outputs": [
    {
     "data": {
      "image/png": "[encoded data removed]",
      "text/plain": [
       "<Figure size 1500x1100 with 6 Axes>"
      ]
     },
     "metadata": {},
     "output_type": "display_data"
    }
   ],
   "source": [
    "import matplotlib.pyplot as plt\n",
    "from datetime import timedelta\n",
    "\n",
    "def metric_plotter(strike,cp_flag,days):\n",
    "    options2 = options1[(options1['strike_price'] == strike) & (options1['cp_flag'] == cp_flag) & (options1['time_to_exp']== timedelta(days = 0))]\n",
    "    fig, ax = plt.subplots(3,2)\n",
    "    fig.set_figwidth(15)\n",
    "    fig.set_figheight(11)\n",
    "    \n",
    "    ax[0][0].plot(options2['date'],options2['spread'])\n",
    "    ax[0][0].set_xlabel('year')\n",
    "    ax[0][0].set_ylabel('spread')\n",
    "    ax[0][1].plot(options2['date'],options2['volume'])\n",
    "    ax[0][1].set_xlabel('year')\n",
    "    ax[0][1].set_ylabel('volume')\n",
    "    ax[1][0].plot(options2['date'],options2['open_interest'])\n",
    "    ax[1][0].set_xlabel('year')\n",
    "    ax[1][0].set_ylabel('open_interest')\n",
    "    ax[1][1].plot(options2['date'],options2['mid_price'])\n",
    "    ax[1][1].set_xlabel('year')\n",
    "    ax[1][1].set_ylabel('mid_price')\n",
    "    ax[2][0].bar(x =options2.groupby('month')['volume'].sum().index, height = options2.groupby('month')['volume'].sum())\n",
    "    ax[2][0].set_xlabel('month')\n",
    "    ax[2][0].set_ylabel('volume')\n",
    "    ax[2][1].bar(x = options2.groupby('weekday')['volume'].sum().index, height = options2.groupby('weekday')['volume'].sum())\n",
    "    ax[2][1].set_xlabel('weekday')\n",
    "    ax[2][1].set_ylabel('volume')\n",
    "\n",
    "    name = ''\n",
    "    if cp_flag == \"C\":\n",
    "        name = \"Call\"\n",
    "    else:\n",
    "        name = \"Put\"\n",
    "\n",
    "\n",
    "    plt.suptitle(f\"Option Metrics for SPX {name} at Strike {strike} with {days} days to expiration\")\n",
    "\n",
    "metric_plotter(2900,cp_flag='P',days=1)\n"
   ]
  },
  {
   "cell_type": "code",
   "execution_count": 159,
   "metadata": {},
   "outputs": [],
   "source": [
    "# Create datasets for differnt time to expiration\n",
    "zeroDTE = options1[options1['time_to_exp'] == timedelta(days = 0)].reset_index()\n",
    "oneDTE = options1[options1['time_to_exp'] == timedelta(days = 1)].reset_index()\n",
    "sevenDTE = options1[options1['time_to_exp'] == timedelta(days = 7)].reset_index()\n",
    "fourteenDTE = options1[options1['time_to_exp'] == timedelta(days = 14)].reset_index()"
   ]
  },
  {
   "cell_type": "markdown",
   "metadata": {},
   "source": [
    "## One Day to Expiration Iron Condor Strat"
   ]
  },
  {
   "cell_type": "code",
   "execution_count": 160,
   "metadata": {},
   "outputs": [
    {
     "name": "stderr",
     "output_type": "stream",
     "text": [
      "[*********************100%%**********************]  1 of 1 completed\n"
     ]
    },
    {
     "data": {
      "text/html": [
       "<div>\n",
       "<style scoped>\n",
       "    .dataframe tbody tr th:only-of-type {\n",
       "        vertical-align: middle;\n",
       "    }\n",
       "\n",
       "    .dataframe tbody tr th {\n",
       "        vertical-align: top;\n",
       "    }\n",
       "\n",
       "    .dataframe thead th {\n",
       "        text-align: right;\n",
       "    }\n",
       "</style>\n",
       "<table border=\"1\" class=\"dataframe\">\n",
       "  <thead>\n",
       "    <tr style=\"text-align: right;\">\n",
       "      <th></th>\n",
       "      <th>date</th>\n",
       "      <th>exdate</th>\n",
       "      <th>last_date</th>\n",
       "      <th>cp_flag</th>\n",
       "      <th>strike_price</th>\n",
       "      <th>best_bid</th>\n",
       "      <th>best_offer</th>\n",
       "      <th>volume</th>\n",
       "      <th>open_interest</th>\n",
       "      <th>am_settlement</th>\n",
       "      <th>contract_size</th>\n",
       "      <th>expiry_indicator</th>\n",
       "      <th>spread</th>\n",
       "      <th>mid_price</th>\n",
       "      <th>time_to_exp</th>\n",
       "      <th>weekday</th>\n",
       "      <th>month</th>\n",
       "      <th>year</th>\n",
       "      <th>risk_free</th>\n",
       "    </tr>\n",
       "  </thead>\n",
       "  <tbody>\n",
       "    <tr>\n",
       "      <th>0</th>\n",
       "      <td>2010-02-25</td>\n",
       "      <td>2010-02-26</td>\n",
       "      <td>NaN</td>\n",
       "      <td>C</td>\n",
       "      <td>1000.0</td>\n",
       "      <td>100.7</td>\n",
       "      <td>104.7</td>\n",
       "      <td>0</td>\n",
       "      <td>1</td>\n",
       "      <td>0</td>\n",
       "      <td>100</td>\n",
       "      <td>m</td>\n",
       "      <td>4.0</td>\n",
       "      <td>102.7</td>\n",
       "      <td>1 days</td>\n",
       "      <td>3</td>\n",
       "      <td>2</td>\n",
       "      <td>2010</td>\n",
       "      <td>3.642</td>\n",
       "    </tr>\n",
       "    <tr>\n",
       "      <th>1</th>\n",
       "      <td>2010-02-25</td>\n",
       "      <td>2010-02-26</td>\n",
       "      <td>NaN</td>\n",
       "      <td>C</td>\n",
       "      <td>1025.0</td>\n",
       "      <td>75.7</td>\n",
       "      <td>79.7</td>\n",
       "      <td>0</td>\n",
       "      <td>2</td>\n",
       "      <td>0</td>\n",
       "      <td>100</td>\n",
       "      <td>m</td>\n",
       "      <td>4.0</td>\n",
       "      <td>77.7</td>\n",
       "      <td>1 days</td>\n",
       "      <td>3</td>\n",
       "      <td>2</td>\n",
       "      <td>2010</td>\n",
       "      <td>3.642</td>\n",
       "    </tr>\n",
       "    <tr>\n",
       "      <th>2</th>\n",
       "      <td>2010-02-25</td>\n",
       "      <td>2010-02-26</td>\n",
       "      <td>2010-02-25</td>\n",
       "      <td>C</td>\n",
       "      <td>1050.0</td>\n",
       "      <td>50.7</td>\n",
       "      <td>54.7</td>\n",
       "      <td>5</td>\n",
       "      <td>0</td>\n",
       "      <td>0</td>\n",
       "      <td>100</td>\n",
       "      <td>m</td>\n",
       "      <td>4.0</td>\n",
       "      <td>52.7</td>\n",
       "      <td>1 days</td>\n",
       "      <td>3</td>\n",
       "      <td>2</td>\n",
       "      <td>2010</td>\n",
       "      <td>3.642</td>\n",
       "    </tr>\n",
       "    <tr>\n",
       "      <th>3</th>\n",
       "      <td>2010-02-25</td>\n",
       "      <td>2010-02-26</td>\n",
       "      <td>2010-02-25</td>\n",
       "      <td>C</td>\n",
       "      <td>1075.0</td>\n",
       "      <td>25.7</td>\n",
       "      <td>29.7</td>\n",
       "      <td>25</td>\n",
       "      <td>106</td>\n",
       "      <td>0</td>\n",
       "      <td>100</td>\n",
       "      <td>m</td>\n",
       "      <td>4.0</td>\n",
       "      <td>27.7</td>\n",
       "      <td>1 days</td>\n",
       "      <td>3</td>\n",
       "      <td>2</td>\n",
       "      <td>2010</td>\n",
       "      <td>3.642</td>\n",
       "    </tr>\n",
       "    <tr>\n",
       "      <th>4</th>\n",
       "      <td>2010-02-25</td>\n",
       "      <td>2010-02-26</td>\n",
       "      <td>2010-02-25</td>\n",
       "      <td>C</td>\n",
       "      <td>1090.0</td>\n",
       "      <td>11.6</td>\n",
       "      <td>14.8</td>\n",
       "      <td>140</td>\n",
       "      <td>0</td>\n",
       "      <td>0</td>\n",
       "      <td>100</td>\n",
       "      <td>m</td>\n",
       "      <td>3.2</td>\n",
       "      <td>13.2</td>\n",
       "      <td>1 days</td>\n",
       "      <td>3</td>\n",
       "      <td>2</td>\n",
       "      <td>2010</td>\n",
       "      <td>3.642</td>\n",
       "    </tr>\n",
       "  </tbody>\n",
       "</table>\n",
       "</div>"
      ],
      "text/plain": [
       "        date     exdate   last_date cp_flag  strike_price  best_bid  \\\n",
       "0 2010-02-25 2010-02-26         NaN       C        1000.0     100.7   \n",
       "1 2010-02-25 2010-02-26         NaN       C        1025.0      75.7   \n",
       "2 2010-02-25 2010-02-26  2010-02-25       C        1050.0      50.7   \n",
       "3 2010-02-25 2010-02-26  2010-02-25       C        1075.0      25.7   \n",
       "4 2010-02-25 2010-02-26  2010-02-25       C        1090.0      11.6   \n",
       "\n",
       "   best_offer  volume  open_interest  am_settlement  contract_size  \\\n",
       "0       104.7       0              1              0            100   \n",
       "1        79.7       0              2              0            100   \n",
       "2        54.7       5              0              0            100   \n",
       "3        29.7      25            106              0            100   \n",
       "4        14.8     140              0              0            100   \n",
       "\n",
       "  expiry_indicator  spread  mid_price time_to_exp  weekday  month  year  \\\n",
       "0                m     4.0      102.7      1 days        3      2  2010   \n",
       "1                m     4.0       77.7      1 days        3      2  2010   \n",
       "2                m     4.0       52.7      1 days        3      2  2010   \n",
       "3                m     4.0       27.7      1 days        3      2  2010   \n",
       "4                m     3.2       13.2      1 days        3      2  2010   \n",
       "\n",
       "   risk_free  \n",
       "0      3.642  \n",
       "1      3.642  \n",
       "2      3.642  \n",
       "3      3.642  \n",
       "4      3.642  "
      ]
     },
     "execution_count": 160,
     "metadata": {},
     "output_type": "execute_result"
    }
   ],
   "source": [
    "import yfinance\n",
    "first_date = oneDTE['date'][0]\n",
    "last_date = oneDTE['date'][len(oneDTE)-1]\n",
    "rf = yfinance.download(\"^TNX\",  start = first_date , end = last_date + timedelta(days=1))\n",
    "rfr = rf.reset_index()[[\"Date\",'Close']]\n",
    "roneDTE = oneDTE.merge(rfr, left_on='date', right_on='Date', how='left').drop(['Date','index'], axis = 1).rename(columns={\"Close\": \"risk_free\"})\n",
    "roneDTE.head()\n"
   ]
  },
  {
   "cell_type": "code",
   "execution_count": 161,
   "metadata": {},
   "outputs": [
    {
     "data": {
      "text/plain": [
       "0.15712890624999923"
      ]
     },
     "execution_count": 161,
     "metadata": {},
     "output_type": "execute_result"
    }
   ],
   "source": [
    "from scipy.stats import norm\n",
    "from scipy.optimize import fmin\n",
    "\n",
    "#roneDTE = roneDTE[roneDTE['cp_flag']=='C'].reset_index()\n",
    "\n",
    "mprice = roneDTE['best_offer'][10]\n",
    "K = roneDTE['strike_price'][10]\n",
    "r = roneDTE['risk_free'][10]\n",
    "T = roneDTE['time_to_exp'][10].days / 252 # num trading days\n",
    "S = index[index['date'] == roneDTE['date'][10]]['close'].iloc[0]\n",
    "\n",
    "def ImpliedVol(S,K,r,T,mprice, call = True):\n",
    "    def ImpliedVolatilityPut(s):\n",
    "        d1 = (np.log(S/K) + (r +.5*s[0]**2)*T)/(s[0] * np.sqrt(T))\n",
    "        d2 = d1 - s[0]*np.sqrt(T)\n",
    "        of = (K*np.exp(-r*T)*norm.cdf(-d2) - S*norm.cdf(-d1) ) - mprice\n",
    "        val = of**2\n",
    "        return(val)\n",
    "    def ImpliedVolatilityCall(s):\n",
    "        d1 = (np.log(S/K) + (r +.5*s[0]**2)*T)/(s[0] * np.sqrt(T))\n",
    "        d2 = d1 - s[0]*np.sqrt(T)\n",
    "        of = (S*np.exp(-r*T)*norm.cdf(d1) - S*norm.cdf(d2) ) - mprice\n",
    "        val = of**2\n",
    "        return(val)\n",
    "    if call == True:\n",
    "        return fmin(ImpliedVolatilityCall, [1], disp=False)[0]\n",
    "    else:\n",
    "        return fmin(ImpliedVolatilityPut, [1], disp=False)[0]\n",
    "ImpliedVol(S,K,r,T,mprice, call = True)"
   ]
  },
  {
   "cell_type": "code",
   "execution_count": 162,
   "metadata": {},
   "outputs": [
    {
     "data": {
      "text/plain": [
       "1074"
      ]
     },
     "execution_count": 162,
     "metadata": {},
     "output_type": "execute_result"
    }
   ],
   "source": [
    "#Number of days with one day of expiration options\n",
    "len(roneDTE['date'].unique())"
   ]
  },
  {
   "cell_type": "code",
   "execution_count": 163,
   "metadata": {},
   "outputs": [],
   "source": [
    "def find_nearest(array, value):\n",
    "    array = np.asarray(array)\n",
    "    idx = (np.abs(array - value)).argmin()\n",
    "    return idx"
   ]
  },
  {
   "cell_type": "code",
   "execution_count": 164,
   "metadata": {},
   "outputs": [],
   "source": [
    "# Find strikes and prices of options for strategy\n",
    "lput_strikes = []\n",
    "sput_strikes = []\n",
    "scall_strikes = []\n",
    "lcall_strikes = []\n",
    "\n",
    "lp_vols = []\n",
    "sp_vols = []\n",
    "sc_vols = []\n",
    "lc_vols = []\n",
    "\n",
    "unique_dates = roneDTE['date'].unique()\n",
    "\n",
    "lp_prices = []\n",
    "sp_prices = []\n",
    "sc_prices = []\n",
    "lc_prices = []\n",
    "spx_next_day = []\n",
    "spx_day = []\n",
    "dates = []\n",
    "rates = []\n",
    "for i in unique_dates[:-1]:\n",
    "    mid = index[index['date'] == i]['closest_strike']\n",
    "    j = index[index['date'] == i].index[0]\n",
    "\n",
    "    strikesi = roneDTE[(roneDTE['date'] == i)]['strike_price'].sort_values().reset_index()['strike_price']\n",
    "    indexj = index.iloc[j]['close']\n",
    "    nearest_real_strike_index = find_nearest(strikesi,indexj)\n",
    "\n",
    "    lput_strike = strikesi[nearest_real_strike_index-5]\n",
    "    sput_strike = strikesi[nearest_real_strike_index-3]\n",
    "    scall_strike = strikesi[nearest_real_strike_index+3]\n",
    "    lcall_strike = strikesi[nearest_real_strike_index+5]\n",
    "    if sput_strike - lput_strike != lcall_strike - scall_strike:\n",
    "        lput_strike = strikesi[find_nearest(strikesi, sput_strike - lcall_strike + scall_strike)]\n",
    "\n",
    "    if sput_strike - lput_strike == lcall_strike - scall_strike:\n",
    "        lput_strikes.append(lput_strike)\n",
    "        sput_strikes.append(sput_strike)\n",
    "        scall_strikes.append(scall_strike)\n",
    "        lcall_strikes.append(lcall_strike)\n",
    "\n",
    "\n",
    "        lp_price = roneDTE[(roneDTE['date'] == i) & (roneDTE['cp_flag'] == 'P') & (roneDTE['strike_price'] == lput_strike)]['best_offer'].iloc[0]\n",
    "        sp_price = roneDTE[(roneDTE['date'] == i) & (roneDTE['cp_flag'] == 'P') & (roneDTE['strike_price'] == sput_strike)]['best_bid'].iloc[0]\n",
    "        lc_price = roneDTE[(roneDTE['date'] == i) & (roneDTE['cp_flag'] == 'C') & (roneDTE['strike_price'] == lcall_strike)]['best_offer'].iloc[0]\n",
    "        sc_price = roneDTE[(roneDTE['date'] == i) & (roneDTE['cp_flag'] == 'C') & (roneDTE['strike_price'] == scall_strike)]['best_bid'].iloc[0]\n",
    "\n",
    "        lp_vol = roneDTE[(roneDTE['date'] == i) & (roneDTE['cp_flag'] == 'P') & (roneDTE['strike_price'] == lput_strike)]['volume'].iloc[0]\n",
    "        sp_vol = roneDTE[(roneDTE['date'] == i) & (roneDTE['cp_flag'] == 'P') & (roneDTE['strike_price'] == sput_strike)]['volume'].iloc[0]\n",
    "        lc_vol = roneDTE[(roneDTE['date'] == i) & (roneDTE['cp_flag'] == 'C') & (roneDTE['strike_price'] == lcall_strike)]['volume'].iloc[0]\n",
    "        sc_vol = roneDTE[(roneDTE['date'] == i) & (roneDTE['cp_flag'] == 'C') & (roneDTE['strike_price'] == scall_strike)]['volume'].iloc[0]\n",
    "\n",
    "        rfr = roneDTE[(roneDTE['date'] == i)]['risk_free'].iloc[0]\n",
    "        rates.append(rfr)\n",
    "\n",
    "        lp_prices.append(lp_price)\n",
    "        sp_prices.append(sp_price)\n",
    "        sc_prices.append(sc_price)\n",
    "        lc_prices.append(lc_price)\n",
    "\n",
    "        lp_vols.append(lp_vol)\n",
    "        sp_vols.append(sp_vol)\n",
    "        sc_vols.append(sc_vol)\n",
    "        lc_vols.append(lc_vol)\n",
    "\n",
    "\n",
    "        next_day = index['close'][j+1]\n",
    "        day_of = index['close'][j]\n",
    "        date = index['date'][j]\n",
    "        spx_next_day.append(next_day)\n",
    "        spx_day.append(day_of)\n",
    "        dates.append(date)\n",
    "cost  = np.array(lp_prices) - np.array(sp_prices) -  np.array(sc_prices) + np.array(lc_prices)"
   ]
  },
  {
   "cell_type": "code",
   "execution_count": 165,
   "metadata": {},
   "outputs": [
    {
     "data": {
      "text/html": [
       "<div>\n",
       "<style scoped>\n",
       "    .dataframe tbody tr th:only-of-type {\n",
       "        vertical-align: middle;\n",
       "    }\n",
       "\n",
       "    .dataframe tbody tr th {\n",
       "        vertical-align: top;\n",
       "    }\n",
       "\n",
       "    .dataframe thead th {\n",
       "        text-align: right;\n",
       "    }\n",
       "</style>\n",
       "<table border=\"1\" class=\"dataframe\">\n",
       "  <thead>\n",
       "    <tr style=\"text-align: right;\">\n",
       "      <th></th>\n",
       "      <th>date</th>\n",
       "      <th>long_puts</th>\n",
       "      <th>short_puts</th>\n",
       "      <th>short_calls</th>\n",
       "      <th>long_calls</th>\n",
       "      <th>lp_volume</th>\n",
       "      <th>sp_volume</th>\n",
       "      <th>sc_volume</th>\n",
       "      <th>lc_volume</th>\n",
       "      <th>next_day_spx</th>\n",
       "      <th>day_spx</th>\n",
       "      <th>risk_free</th>\n",
       "      <th>cost</th>\n",
       "    </tr>\n",
       "  </thead>\n",
       "  <tbody>\n",
       "    <tr>\n",
       "      <th>0</th>\n",
       "      <td>2010-03-04</td>\n",
       "      <td>1075.0</td>\n",
       "      <td>1100.0</td>\n",
       "      <td>1150.0</td>\n",
       "      <td>1175.0</td>\n",
       "      <td>390</td>\n",
       "      <td>1167</td>\n",
       "      <td>921</td>\n",
       "      <td>510</td>\n",
       "      <td>1138.70</td>\n",
       "      <td>1122.97</td>\n",
       "      <td>3.606</td>\n",
       "      <td>0.00</td>\n",
       "    </tr>\n",
       "    <tr>\n",
       "      <th>1</th>\n",
       "      <td>2010-03-30</td>\n",
       "      <td>1160.0</td>\n",
       "      <td>1165.0</td>\n",
       "      <td>1180.0</td>\n",
       "      <td>1185.0</td>\n",
       "      <td>488</td>\n",
       "      <td>259</td>\n",
       "      <td>10327</td>\n",
       "      <td>1316</td>\n",
       "      <td>1169.43</td>\n",
       "      <td>1173.27</td>\n",
       "      <td>3.868</td>\n",
       "      <td>-0.40</td>\n",
       "    </tr>\n",
       "    <tr>\n",
       "      <th>2</th>\n",
       "      <td>2010-03-31</td>\n",
       "      <td>1100.0</td>\n",
       "      <td>1125.0</td>\n",
       "      <td>1200.0</td>\n",
       "      <td>1225.0</td>\n",
       "      <td>15</td>\n",
       "      <td>175</td>\n",
       "      <td>2640</td>\n",
       "      <td>1604</td>\n",
       "      <td>1178.10</td>\n",
       "      <td>1169.43</td>\n",
       "      <td>3.833</td>\n",
       "      <td>0.10</td>\n",
       "    </tr>\n",
       "    <tr>\n",
       "      <th>3</th>\n",
       "      <td>2010-04-08</td>\n",
       "      <td>1100.0</td>\n",
       "      <td>1125.0</td>\n",
       "      <td>1200.0</td>\n",
       "      <td>1225.0</td>\n",
       "      <td>452</td>\n",
       "      <td>2586</td>\n",
       "      <td>1003</td>\n",
       "      <td>126</td>\n",
       "      <td>1194.37</td>\n",
       "      <td>1186.44</td>\n",
       "      <td>3.896</td>\n",
       "      <td>0.10</td>\n",
       "    </tr>\n",
       "    <tr>\n",
       "      <th>4</th>\n",
       "      <td>2010-04-22</td>\n",
       "      <td>1125.0</td>\n",
       "      <td>1150.0</td>\n",
       "      <td>1225.0</td>\n",
       "      <td>1250.0</td>\n",
       "      <td>836</td>\n",
       "      <td>2776</td>\n",
       "      <td>1646</td>\n",
       "      <td>220</td>\n",
       "      <td>1217.28</td>\n",
       "      <td>1208.67</td>\n",
       "      <td>3.772</td>\n",
       "      <td>0.05</td>\n",
       "    </tr>\n",
       "  </tbody>\n",
       "</table>\n",
       "</div>"
      ],
      "text/plain": [
       "        date  long_puts  short_puts  short_calls  long_calls  lp_volume  \\\n",
       "0 2010-03-04     1075.0      1100.0       1150.0      1175.0        390   \n",
       "1 2010-03-30     1160.0      1165.0       1180.0      1185.0        488   \n",
       "2 2010-03-31     1100.0      1125.0       1200.0      1225.0         15   \n",
       "3 2010-04-08     1100.0      1125.0       1200.0      1225.0        452   \n",
       "4 2010-04-22     1125.0      1150.0       1225.0      1250.0        836   \n",
       "\n",
       "   sp_volume  sc_volume  lc_volume  next_day_spx  day_spx  risk_free  cost  \n",
       "0       1167        921        510       1138.70  1122.97      3.606  0.00  \n",
       "1        259      10327       1316       1169.43  1173.27      3.868 -0.40  \n",
       "2        175       2640       1604       1178.10  1169.43      3.833  0.10  \n",
       "3       2586       1003        126       1194.37  1186.44      3.896  0.10  \n",
       "4       2776       1646        220       1217.28  1208.67      3.772  0.05  "
      ]
     },
     "execution_count": 165,
     "metadata": {},
     "output_type": "execute_result"
    }
   ],
   "source": [
    "iron_df = pd.DataFrame({'date': dates, \n",
    "                        'long_puts': lput_strikes, 'short_puts': sput_strikes, 'short_calls':scall_strikes,'long_calls':lcall_strikes, \n",
    "                        'lp_volume': lp_vols, 'sp_volume':sp_vols, 'sc_volume': sc_vols, 'lc_volume': lc_vols,\n",
    "                        'next_day_spx': spx_next_day, \"day_spx\":spx_day, \"risk_free\":rates, 'cost': cost})\n",
    "iron_df.head()"
   ]
  },
  {
   "cell_type": "code",
   "execution_count": 166,
   "metadata": {},
   "outputs": [],
   "source": [
    "# Calculate profit and implied volatility of each strategy\n",
    "profit  = np.zeros(len(iron_df))\n",
    "for i in range(len(iron_df)):\n",
    "    if (iron_df['short_puts'][i] - iron_df['long_puts'][i] != iron_df['long_calls'][i] - iron_df['short_calls'][i]):\n",
    "        continue\n",
    "    elif (iron_df['next_day_spx'][i] <= iron_df['short_calls'][i]) and (iron_df['next_day_spx'][i] >= iron_df['short_calls'][i]):\n",
    "        profit[i] = 0\n",
    "    elif (iron_df['next_day_spx'][i] >= iron_df['short_calls'][i]) and (iron_df['next_day_spx'][i] <= iron_df['long_calls'][i]):\n",
    "        profit[i] = iron_df['short_calls'][i] - iron_df['next_day_spx'][i]\n",
    "    elif (iron_df['next_day_spx'][i] >= iron_df['long_puts'][i]) and (iron_df['next_day_spx'][i] <= iron_df['short_puts'][i]):\n",
    "        profit[i] = iron_df['short_puts'][i] - iron_df['next_day_spx'][i]\n",
    "    elif(iron_df['next_day_spx'][i] <= iron_df['long_puts'][i]):\n",
    "        profit[i] = iron_df['long_puts'][i] - iron_df['short_puts'][i]\n",
    "    elif (iron_df['next_day_spx'][i] >= iron_df['long_calls'][i]):\n",
    "        profit[i]  = iron_df['short_calls'][i] - iron_df['long_calls'][i]\n",
    "iron_df['profit'] = profit\n",
    "iron_df['net'] = profit - cost \n",
    "\n",
    "imp_vols = []\n",
    "for i in range(len(iron_df)):\n",
    "    S = iron_df['day_spx'][i]\n",
    "    K = iron_df['short_calls'][i]\n",
    "    r = iron_df['risk_free'][i]\n",
    "    mprice = sc_prices[i]\n",
    "    T = 1/252\n",
    "    iv = ImpliedVol(S,K,r,T,mprice=mprice)\n",
    "    imp_vols.append(iv)\n",
    "iron_df['imp_vols'] = imp_vols"
   ]
  },
  {
   "cell_type": "code",
   "execution_count": 168,
   "metadata": {},
   "outputs": [
    {
     "data": {
      "text/plain": [
       "count    1056.000000\n",
       "mean       -0.495455\n",
       "min       -18.700000\n",
       "25%        -2.300000\n",
       "50%        -1.300000\n",
       "75%         1.550000\n",
       "max         8.160000\n",
       "std         2.520421\n",
       "Name: net, dtype: float64"
      ]
     },
     "execution_count": 168,
     "metadata": {},
     "output_type": "execute_result"
    }
   ],
   "source": [
    "#Distribution of Net Profit by just buying the strategy\n",
    "iron_df.describe()['net']"
   ]
  },
  {
   "cell_type": "code",
   "execution_count": 169,
   "metadata": {},
   "outputs": [
    {
     "name": "stdout",
     "output_type": "stream",
     "text": [
      "Median net buy profit with max implied volatility of 0.19\n",
      "0.025\n",
      "Number of Viable Days\n",
      "50\n"
     ]
    }
   ],
   "source": [
    "print('Median net buy profit with max implied volatility of 0.19')\n",
    "print(np.median(iron_df[iron_df['imp_vols'] < 0.19]['net']))\n",
    "print('Number of Viable Days')\n",
    "print(len(iron_df[iron_df['imp_vols'] < 0.19]))"
   ]
  },
  {
   "cell_type": "code",
   "execution_count": 170,
   "metadata": {},
   "outputs": [
    {
     "name": "stdout",
     "output_type": "stream",
     "text": [
      "Median net sell profit with max implied volatility of 0.19\n",
      "1.3000000000000043\n",
      "Number of Viable Days\n",
      "982\n"
     ]
    }
   ],
   "source": [
    "print('Median net sell profit with max implied volatility of 0.19')\n",
    "print(np.median(-iron_df[iron_df['imp_vols'] > 0.2]['net']))\n",
    "print('Number of Viable Days')\n",
    "print(len(iron_df[iron_df['imp_vols'] > 0.2]))"
   ]
  },
  {
   "cell_type": "code",
   "execution_count": 173,
   "metadata": {},
   "outputs": [],
   "source": [
    "iron_df['buy'] = iron_df['imp_vols'] < 0.19\n",
    "iron_df['sell'] = iron_df['imp_vols'] > 0.2"
   ]
  },
  {
   "cell_type": "code",
   "execution_count": 174,
   "metadata": {},
   "outputs": [
    {
     "data": {
      "text/plain": [
       "count    1056.000000\n",
       "mean        0.467083\n",
       "min        -8.160000\n",
       "25%        -1.550000\n",
       "50%         1.300000\n",
       "75%         2.300000\n",
       "max        15.400000\n",
       "std         2.445051\n",
       "Name: strat_daily_net, dtype: float64"
      ]
     },
     "execution_count": 174,
     "metadata": {},
     "output_type": "execute_result"
    }
   ],
   "source": [
    "iron_df['net_buy'] = iron_df['net'] * iron_df['buy']\n",
    "iron_df['net_sell'] = -iron_df['net'] * iron_df['sell']\n",
    "iron_df['strat_daily_net'] = iron_df['net_buy'] + iron_df['net_sell']\n",
    "iron_df.describe()['strat_daily_net']"
   ]
  },
  {
   "cell_type": "code",
   "execution_count": 175,
   "metadata": {},
   "outputs": [
    {
     "data": {
      "text/plain": [
       "Text(0.5, 1.0, 'One Day IV Strategy Profits')"
      ]
     },
     "execution_count": 175,
     "metadata": {},
     "output_type": "execute_result"
    },
    {
     "data": {
      "image/png": "[encoded data removed]",
      "text/plain": [
       "<Figure size 640x480 with 1 Axes>"
      ]
     },
     "metadata": {},
     "output_type": "display_data"
    }
   ],
   "source": [
    "plt.hist(iron_df['strat_daily_net'], edgecolor = 'black', bins = 30)\n",
    "plt.xlabel('profit')\n",
    "plt.ylabel('count')\n",
    "plt.title(\"One Day IV Strategy Profits\")"
   ]
  },
  {
   "cell_type": "code",
   "execution_count": 176,
   "metadata": {},
   "outputs": [
    {
     "data": {
      "text/plain": [
       "0.5928030303030303"
      ]
     },
     "execution_count": 176,
     "metadata": {},
     "output_type": "execute_result"
    }
   ],
   "source": [
    "#proportion of days you make money\n",
    "np.sum(iron_df['strat_daily_net'] > 0) / len(iron_df) "
   ]
  },
  {
   "cell_type": "code",
   "execution_count": 177,
   "metadata": {},
   "outputs": [
    {
     "name": "stdout",
     "output_type": "stream",
     "text": [
      "Median net sell profit with Volume Strat\n",
      "1.3799999999999701\n",
      "Number of Viable Days\n",
      "506\n"
     ]
    }
   ],
   "source": [
    "print('Median net sell profit with Volume Strat')\n",
    "print(-np.median(iron_df[iron_df['lc_volume'] + iron_df['lp_volume'] - iron_df['sc_volume'] - iron_df['sp_volume'] > 0]['net']))\n",
    "print('Number of Viable Days')\n",
    "print(len(iron_df[iron_df['lc_volume'] + iron_df['lp_volume'] - iron_df['sc_volume'] - iron_df['sp_volume'] > 0]))"
   ]
  },
  {
   "cell_type": "code",
   "execution_count": 178,
   "metadata": {},
   "outputs": [
    {
     "name": "stdout",
     "output_type": "stream",
     "text": [
      "Median net Buy profit with Volume Strat\n",
      "-1.8499999999999999\n",
      "Number of Viable Days\n",
      "1\n"
     ]
    }
   ],
   "source": [
    "print('Median net Buy profit with Volume Strat')\n",
    "print(np.median(iron_df[iron_df['lc_volume'] + iron_df['lp_volume'] - iron_df['sc_volume'] - iron_df['sp_volume'] < -50000]['net']))\n",
    "print('Number of Viable Days')\n",
    "print(len(iron_df[iron_df['lc_volume'] + iron_df['lp_volume'] - iron_df['sc_volume'] - iron_df['sp_volume'] < -50000]))"
   ]
  },
  {
   "cell_type": "code",
   "execution_count": 180,
   "metadata": {},
   "outputs": [
    {
     "data": {
      "text/plain": [
       "count    1056.000000\n",
       "mean        0.229252\n",
       "min        -7.130000\n",
       "25%         0.000000\n",
       "50%        -0.000000\n",
       "75%         1.300000\n",
       "max        18.700000\n",
       "std         1.758417\n",
       "Name: volume_strat, dtype: float64"
      ]
     },
     "execution_count": 180,
     "metadata": {},
     "output_type": "execute_result"
    }
   ],
   "source": [
    "vol_sell = iron_df['lc_volume'] + iron_df['lp_volume'] - iron_df['sc_volume'] - iron_df['sp_volume'] > 0\n",
    "iron_df['volume_strat'] = -iron_df['net'] * vol_sell\n",
    "iron_df.describe()['volume_strat']"
   ]
  },
  {
   "cell_type": "code",
   "execution_count": 181,
   "metadata": {},
   "outputs": [
    {
     "data": {
      "text/plain": [
       "Text(0.5, 1.0, 'One Day Volume Strategy Profits')"
      ]
     },
     "execution_count": 181,
     "metadata": {},
     "output_type": "execute_result"
    },
    {
     "data": {
      "image/png": "[encoded data removed]",
      "text/plain": [
       "<Figure size 640x480 with 1 Axes>"
      ]
     },
     "metadata": {},
     "output_type": "display_data"
    }
   ],
   "source": [
    "plt.hist(iron_df['volume_strat'], edgecolor = 'black', bins = 30)\n",
    "plt.xlabel('profit')\n",
    "plt.ylabel('count')\n",
    "plt.title(\"One Day Volume Strategy Profits\")"
   ]
  },
  {
   "cell_type": "code",
   "execution_count": 182,
   "metadata": {},
   "outputs": [
    {
     "data": {
      "text/plain": [
       "0.2859848484848485"
      ]
     },
     "execution_count": 182,
     "metadata": {},
     "output_type": "execute_result"
    }
   ],
   "source": [
    "np.sum(iron_df['volume_strat'] > 0) / len(iron_df['volume_strat'])"
   ]
  },
  {
   "cell_type": "markdown",
   "metadata": {},
   "source": [
    "## Seven Days to Expiration Iron Condor Strat"
   ]
  },
  {
   "cell_type": "code",
   "execution_count": 217,
   "metadata": {},
   "outputs": [
    {
     "name": "stderr",
     "output_type": "stream",
     "text": [
      "[*********************100%%**********************]  1 of 1 completed\n"
     ]
    },
    {
     "data": {
      "text/html": [
       "<div>\n",
       "<style scoped>\n",
       "    .dataframe tbody tr th:only-of-type {\n",
       "        vertical-align: middle;\n",
       "    }\n",
       "\n",
       "    .dataframe tbody tr th {\n",
       "        vertical-align: top;\n",
       "    }\n",
       "\n",
       "    .dataframe thead th {\n",
       "        text-align: right;\n",
       "    }\n",
       "</style>\n",
       "<table border=\"1\" class=\"dataframe\">\n",
       "  <thead>\n",
       "    <tr style=\"text-align: right;\">\n",
       "      <th></th>\n",
       "      <th>date</th>\n",
       "      <th>exdate</th>\n",
       "      <th>last_date</th>\n",
       "      <th>cp_flag</th>\n",
       "      <th>strike_price</th>\n",
       "      <th>best_bid</th>\n",
       "      <th>best_offer</th>\n",
       "      <th>volume</th>\n",
       "      <th>open_interest</th>\n",
       "      <th>am_settlement</th>\n",
       "      <th>contract_size</th>\n",
       "      <th>expiry_indicator</th>\n",
       "      <th>spread</th>\n",
       "      <th>mid_price</th>\n",
       "      <th>time_to_exp</th>\n",
       "      <th>weekday</th>\n",
       "      <th>month</th>\n",
       "      <th>year</th>\n",
       "      <th>risk_free</th>\n",
       "    </tr>\n",
       "  </thead>\n",
       "  <tbody>\n",
       "    <tr>\n",
       "      <th>0</th>\n",
       "      <td>2010-02-19</td>\n",
       "      <td>2010-02-26</td>\n",
       "      <td>2010-02-25</td>\n",
       "      <td>C</td>\n",
       "      <td>1000.0</td>\n",
       "      <td>107.0</td>\n",
       "      <td>109.9</td>\n",
       "      <td>1</td>\n",
       "      <td>0</td>\n",
       "      <td>0</td>\n",
       "      <td>100</td>\n",
       "      <td>m</td>\n",
       "      <td>2.9</td>\n",
       "      <td>108.45</td>\n",
       "      <td>7 days</td>\n",
       "      <td>4</td>\n",
       "      <td>2</td>\n",
       "      <td>2010</td>\n",
       "      <td>3.782</td>\n",
       "    </tr>\n",
       "    <tr>\n",
       "      <th>1</th>\n",
       "      <td>2010-02-19</td>\n",
       "      <td>2010-02-26</td>\n",
       "      <td>NaN</td>\n",
       "      <td>C</td>\n",
       "      <td>1025.0</td>\n",
       "      <td>82.3</td>\n",
       "      <td>85.1</td>\n",
       "      <td>2</td>\n",
       "      <td>0</td>\n",
       "      <td>0</td>\n",
       "      <td>100</td>\n",
       "      <td>m</td>\n",
       "      <td>2.8</td>\n",
       "      <td>83.70</td>\n",
       "      <td>7 days</td>\n",
       "      <td>4</td>\n",
       "      <td>2</td>\n",
       "      <td>2010</td>\n",
       "      <td>3.782</td>\n",
       "    </tr>\n",
       "    <tr>\n",
       "      <th>2</th>\n",
       "      <td>2010-02-19</td>\n",
       "      <td>2010-02-26</td>\n",
       "      <td>NaN</td>\n",
       "      <td>C</td>\n",
       "      <td>1050.0</td>\n",
       "      <td>58.2</td>\n",
       "      <td>60.2</td>\n",
       "      <td>0</td>\n",
       "      <td>0</td>\n",
       "      <td>0</td>\n",
       "      <td>100</td>\n",
       "      <td>m</td>\n",
       "      <td>2.0</td>\n",
       "      <td>59.20</td>\n",
       "      <td>7 days</td>\n",
       "      <td>4</td>\n",
       "      <td>2</td>\n",
       "      <td>2010</td>\n",
       "      <td>3.782</td>\n",
       "    </tr>\n",
       "    <tr>\n",
       "      <th>3</th>\n",
       "      <td>2010-02-19</td>\n",
       "      <td>2010-02-26</td>\n",
       "      <td>NaN</td>\n",
       "      <td>C</td>\n",
       "      <td>1075.0</td>\n",
       "      <td>34.5</td>\n",
       "      <td>36.5</td>\n",
       "      <td>2</td>\n",
       "      <td>0</td>\n",
       "      <td>0</td>\n",
       "      <td>100</td>\n",
       "      <td>m</td>\n",
       "      <td>2.0</td>\n",
       "      <td>35.50</td>\n",
       "      <td>7 days</td>\n",
       "      <td>4</td>\n",
       "      <td>2</td>\n",
       "      <td>2010</td>\n",
       "      <td>3.782</td>\n",
       "    </tr>\n",
       "    <tr>\n",
       "      <th>4</th>\n",
       "      <td>2010-02-19</td>\n",
       "      <td>2010-02-26</td>\n",
       "      <td>2010-02-25</td>\n",
       "      <td>C</td>\n",
       "      <td>1100.0</td>\n",
       "      <td>14.1</td>\n",
       "      <td>15.8</td>\n",
       "      <td>108</td>\n",
       "      <td>0</td>\n",
       "      <td>0</td>\n",
       "      <td>100</td>\n",
       "      <td>m</td>\n",
       "      <td>1.7</td>\n",
       "      <td>14.95</td>\n",
       "      <td>7 days</td>\n",
       "      <td>4</td>\n",
       "      <td>2</td>\n",
       "      <td>2010</td>\n",
       "      <td>3.782</td>\n",
       "    </tr>\n",
       "  </tbody>\n",
       "</table>\n",
       "</div>"
      ],
      "text/plain": [
       "        date     exdate   last_date cp_flag  strike_price  best_bid  \\\n",
       "0 2010-02-19 2010-02-26  2010-02-25       C        1000.0     107.0   \n",
       "1 2010-02-19 2010-02-26         NaN       C        1025.0      82.3   \n",
       "2 2010-02-19 2010-02-26         NaN       C        1050.0      58.2   \n",
       "3 2010-02-19 2010-02-26         NaN       C        1075.0      34.5   \n",
       "4 2010-02-19 2010-02-26  2010-02-25       C        1100.0      14.1   \n",
       "\n",
       "   best_offer  volume  open_interest  am_settlement  contract_size  \\\n",
       "0       109.9       1              0              0            100   \n",
       "1        85.1       2              0              0            100   \n",
       "2        60.2       0              0              0            100   \n",
       "3        36.5       2              0              0            100   \n",
       "4        15.8     108              0              0            100   \n",
       "\n",
       "  expiry_indicator  spread  mid_price time_to_exp  weekday  month  year  \\\n",
       "0                m     2.9     108.45      7 days        4      2  2010   \n",
       "1                m     2.8      83.70      7 days        4      2  2010   \n",
       "2                m     2.0      59.20      7 days        4      2  2010   \n",
       "3                m     2.0      35.50      7 days        4      2  2010   \n",
       "4                m     1.7      14.95      7 days        4      2  2010   \n",
       "\n",
       "   risk_free  \n",
       "0      3.782  \n",
       "1      3.782  \n",
       "2      3.782  \n",
       "3      3.782  \n",
       "4      3.782  "
      ]
     },
     "execution_count": 217,
     "metadata": {},
     "output_type": "execute_result"
    }
   ],
   "source": [
    "#Add risk free rate data to dataset\n",
    "import yfinance\n",
    "first_date = sevenDTE['date'][0]\n",
    "last_date = sevenDTE['date'][len(fourteenDTE)-1]\n",
    "rf = yfinance.download(\"^TNX\",  start = first_date , end = last_date + timedelta(days=1))\n",
    "rfr = rf.reset_index()[[\"Date\",'Close']]\n",
    "rsevenDTE = sevenDTE.merge(rfr, left_on='date', right_on='Date', how='left').drop(['Date','index'], axis = 1).rename(columns={\"Close\": \"risk_free\"})\n",
    "rsevenDTE.head()"
   ]
  },
  {
   "cell_type": "code",
   "execution_count": 218,
   "metadata": {},
   "outputs": [],
   "source": [
    "#Find strikes and prices of options for the strategy\n",
    "lput_strikes = []\n",
    "sput_strikes = []\n",
    "scall_strikes = []\n",
    "lcall_strikes = []\n",
    "\n",
    "lp_vols = []\n",
    "sp_vols = []\n",
    "sc_vols = []\n",
    "lc_vols = []\n",
    "\n",
    "unique_dates = rsevenDTE['date'].unique()\n",
    "\n",
    "lp_prices = []\n",
    "sp_prices = []\n",
    "sc_prices = []\n",
    "lc_prices = []\n",
    "spx_next_day = []\n",
    "spx_day = []\n",
    "dates = []\n",
    "rates = []\n",
    "\n",
    "for i in unique_dates[:-7]:\n",
    "    j = index[index['date'] == i].index[0]\n",
    "\n",
    "    strikesi = rsevenDTE[(rsevenDTE['date'] == i)]['strike_price'].sort_values().reset_index()['strike_price']\n",
    "    indexj = index.iloc[j]['close']\n",
    "    nearest_real_strike_index = find_nearest(strikesi,indexj)\n",
    "\n",
    "    lput_strike = strikesi[nearest_real_strike_index-5]\n",
    "    sput_strike = strikesi[nearest_real_strike_index-3]\n",
    "    scall_strike = strikesi[nearest_real_strike_index+3]\n",
    "    lcall_strike = strikesi[nearest_real_strike_index+5]\n",
    "    if sput_strike - lput_strike != lcall_strike - scall_strike:\n",
    "        lput_strike = strikesi[find_nearest(strikesi, sput_strike - lcall_strike + scall_strike)]\n",
    "\n",
    "    if sput_strike - lput_strike == lcall_strike - scall_strike:\n",
    "        lput_strikes.append(lput_strike)\n",
    "        sput_strikes.append(sput_strike)\n",
    "        scall_strikes.append(scall_strike)\n",
    "        lcall_strikes.append(lcall_strike)\n",
    "\n",
    "\n",
    "        lp_price = rsevenDTE[(rsevenDTE['date'] == i) & (rsevenDTE['cp_flag'] == 'P') & (rsevenDTE['strike_price'] == lput_strike)]['best_offer'].iloc[0]\n",
    "        sp_price = rsevenDTE[(rsevenDTE['date'] == i) & (rsevenDTE['cp_flag'] == 'P') & (rsevenDTE['strike_price'] == sput_strike)]['best_bid'].iloc[0]\n",
    "        lc_price = rsevenDTE[(rsevenDTE['date'] == i) & (rsevenDTE['cp_flag'] == 'C') & (rsevenDTE['strike_price'] == lcall_strike)]['best_offer'].iloc[0]\n",
    "        sc_price = rsevenDTE[(rsevenDTE['date'] == i) & (rsevenDTE['cp_flag'] == 'C') & (rsevenDTE['strike_price'] == scall_strike)]['best_bid'].iloc[0]\n",
    "\n",
    "        lp_vol = rsevenDTE[(rsevenDTE['date'] == i) & (rsevenDTE['cp_flag'] == 'P') & (rsevenDTE['strike_price'] == lput_strike)]['volume'].iloc[0]\n",
    "        sp_vol = rsevenDTE[(rsevenDTE['date'] == i) & (rsevenDTE['cp_flag'] == 'P') & (rsevenDTE['strike_price'] == sput_strike)]['volume'].iloc[0]\n",
    "        lc_vol = rsevenDTE[(rsevenDTE['date'] == i) & (rsevenDTE['cp_flag'] == 'C') & (rsevenDTE['strike_price'] == lcall_strike)]['volume'].iloc[0]\n",
    "        sc_vol = rsevenDTE[(rsevenDTE['date'] == i) & (rsevenDTE['cp_flag'] == 'C') & (rsevenDTE['strike_price'] == scall_strike)]['volume'].iloc[0]\n",
    "\n",
    "        rfr = rsevenDTE[(rsevenDTE['date'] == i)]['risk_free'].iloc[0]\n",
    "        rates.append(rfr)\n",
    "\n",
    "        lp_prices.append(lp_price)\n",
    "        sp_prices.append(sp_price)\n",
    "        sc_prices.append(sc_price)\n",
    "        lc_prices.append(lc_price)\n",
    "\n",
    "        lp_vols.append(lp_vol)\n",
    "        sp_vols.append(sp_vol)\n",
    "        sc_vols.append(sc_vol)\n",
    "        lc_vols.append(lc_vol)\n",
    "\n",
    "        next_day = index['close'][j+7]\n",
    "        day_of = index['close'][j]\n",
    "        date = index['date'][j]\n",
    "        spx_next_day.append(next_day)\n",
    "        spx_day.append(day_of)\n",
    "        dates.append(date)\n",
    "cost  = np.array(lp_prices) - np.array(sp_prices) -  np.array(sc_prices) + np.array(lc_prices)"
   ]
  },
  {
   "cell_type": "code",
   "execution_count": 219,
   "metadata": {},
   "outputs": [
    {
     "data": {
      "text/html": [
       "<div>\n",
       "<style scoped>\n",
       "    .dataframe tbody tr th:only-of-type {\n",
       "        vertical-align: middle;\n",
       "    }\n",
       "\n",
       "    .dataframe tbody tr th {\n",
       "        vertical-align: top;\n",
       "    }\n",
       "\n",
       "    .dataframe thead th {\n",
       "        text-align: right;\n",
       "    }\n",
       "</style>\n",
       "<table border=\"1\" class=\"dataframe\">\n",
       "  <thead>\n",
       "    <tr style=\"text-align: right;\">\n",
       "      <th></th>\n",
       "      <th>date</th>\n",
       "      <th>long_puts</th>\n",
       "      <th>short_puts</th>\n",
       "      <th>short_calls</th>\n",
       "      <th>long_calls</th>\n",
       "      <th>lp_volume</th>\n",
       "      <th>sp_volume</th>\n",
       "      <th>sc_volume</th>\n",
       "      <th>lc_volume</th>\n",
       "      <th>next_day_spx</th>\n",
       "      <th>day_spx</th>\n",
       "      <th>risk_free</th>\n",
       "      <th>cost</th>\n",
       "    </tr>\n",
       "  </thead>\n",
       "  <tbody>\n",
       "    <tr>\n",
       "      <th>0</th>\n",
       "      <td>2010-02-19</td>\n",
       "      <td>1025.0</td>\n",
       "      <td>1050.0</td>\n",
       "      <td>1125.0</td>\n",
       "      <td>1150.0</td>\n",
       "      <td>1907</td>\n",
       "      <td>2099</td>\n",
       "      <td>2626</td>\n",
       "      <td>1408</td>\n",
       "      <td>1118.31</td>\n",
       "      <td>1109.17</td>\n",
       "      <td>3.782</td>\n",
       "      <td>-2.05</td>\n",
       "    </tr>\n",
       "    <tr>\n",
       "      <th>1</th>\n",
       "      <td>2010-02-26</td>\n",
       "      <td>1025.0</td>\n",
       "      <td>1050.0</td>\n",
       "      <td>1125.0</td>\n",
       "      <td>1150.0</td>\n",
       "      <td>2555</td>\n",
       "      <td>2386</td>\n",
       "      <td>793</td>\n",
       "      <td>941</td>\n",
       "      <td>1140.45</td>\n",
       "      <td>1104.49</td>\n",
       "      <td>3.595</td>\n",
       "      <td>-1.50</td>\n",
       "    </tr>\n",
       "    <tr>\n",
       "      <th>2</th>\n",
       "      <td>2010-03-05</td>\n",
       "      <td>1075.0</td>\n",
       "      <td>1100.0</td>\n",
       "      <td>1175.0</td>\n",
       "      <td>1200.0</td>\n",
       "      <td>803</td>\n",
       "      <td>371</td>\n",
       "      <td>675</td>\n",
       "      <td>1530</td>\n",
       "      <td>1159.46</td>\n",
       "      <td>1138.70</td>\n",
       "      <td>3.682</td>\n",
       "      <td>-0.85</td>\n",
       "    </tr>\n",
       "    <tr>\n",
       "      <th>3</th>\n",
       "      <td>2010-03-19</td>\n",
       "      <td>1075.0</td>\n",
       "      <td>1100.0</td>\n",
       "      <td>1175.0</td>\n",
       "      <td>1200.0</td>\n",
       "      <td>3140</td>\n",
       "      <td>915</td>\n",
       "      <td>856</td>\n",
       "      <td>4556</td>\n",
       "      <td>1173.27</td>\n",
       "      <td>1159.90</td>\n",
       "      <td>3.687</td>\n",
       "      <td>-1.55</td>\n",
       "    </tr>\n",
       "    <tr>\n",
       "      <th>4</th>\n",
       "      <td>2010-03-24</td>\n",
       "      <td>1155.0</td>\n",
       "      <td>1160.0</td>\n",
       "      <td>1175.0</td>\n",
       "      <td>1180.0</td>\n",
       "      <td>24</td>\n",
       "      <td>54</td>\n",
       "      <td>1250</td>\n",
       "      <td>29</td>\n",
       "      <td>1187.44</td>\n",
       "      <td>1167.72</td>\n",
       "      <td>3.829</td>\n",
       "      <td>-1.70</td>\n",
       "    </tr>\n",
       "  </tbody>\n",
       "</table>\n",
       "</div>"
      ],
      "text/plain": [
       "        date  long_puts  short_puts  short_calls  long_calls  lp_volume  \\\n",
       "0 2010-02-19     1025.0      1050.0       1125.0      1150.0       1907   \n",
       "1 2010-02-26     1025.0      1050.0       1125.0      1150.0       2555   \n",
       "2 2010-03-05     1075.0      1100.0       1175.0      1200.0        803   \n",
       "3 2010-03-19     1075.0      1100.0       1175.0      1200.0       3140   \n",
       "4 2010-03-24     1155.0      1160.0       1175.0      1180.0         24   \n",
       "\n",
       "   sp_volume  sc_volume  lc_volume  next_day_spx  day_spx  risk_free  cost  \n",
       "0       2099       2626       1408       1118.31  1109.17      3.782 -2.05  \n",
       "1       2386        793        941       1140.45  1104.49      3.595 -1.50  \n",
       "2        371        675       1530       1159.46  1138.70      3.682 -0.85  \n",
       "3        915        856       4556       1173.27  1159.90      3.687 -1.55  \n",
       "4         54       1250         29       1187.44  1167.72      3.829 -1.70  "
      ]
     },
     "execution_count": 219,
     "metadata": {},
     "output_type": "execute_result"
    }
   ],
   "source": [
    "iron_df = pd.DataFrame({'date': dates, \n",
    "                        'long_puts': lput_strikes, 'short_puts': sput_strikes, 'short_calls':scall_strikes,'long_calls':lcall_strikes, \n",
    "                        'lp_volume': lp_vols, 'sp_volume':sp_vols, 'sc_volume': sc_vols, 'lc_volume': lc_vols,\n",
    "                        'next_day_spx': spx_next_day, \"day_spx\":spx_day, \"risk_free\":rates, 'cost': cost})\n",
    "iron_df.head()"
   ]
  },
  {
   "cell_type": "code",
   "execution_count": 220,
   "metadata": {},
   "outputs": [],
   "source": [
    "# Calculate profit and implied volatility for this Strategy\n",
    "profit  = np.zeros(len(iron_df))\n",
    "for i in range(len(iron_df)):\n",
    "    if (iron_df['short_puts'][i] - iron_df['long_puts'][i] != iron_df['long_calls'][i] - iron_df['short_calls'][i]):\n",
    "        continue\n",
    "    elif (iron_df['next_day_spx'][i] <= iron_df['short_calls'][i]) and (iron_df['next_day_spx'][i] >= iron_df['short_calls'][i]):\n",
    "        profit[i] = 0\n",
    "    elif (iron_df['next_day_spx'][i] >= iron_df['short_calls'][i]) and (iron_df['next_day_spx'][i] <= iron_df['long_calls'][i]):\n",
    "        profit[i] = iron_df['short_calls'][i] - iron_df['next_day_spx'][i]\n",
    "    elif (iron_df['next_day_spx'][i] >= iron_df['long_puts'][i]) and (iron_df['next_day_spx'][i] <= iron_df['short_puts'][i]):\n",
    "        profit[i] = iron_df['short_puts'][i] - iron_df['next_day_spx'][i]\n",
    "    elif(iron_df['next_day_spx'][i] <= iron_df['long_puts'][i]):\n",
    "        profit[i] = iron_df['long_puts'][i] - iron_df['short_puts'][i]\n",
    "    elif (iron_df['next_day_spx'][i] >= iron_df['long_calls'][i]):\n",
    "        profit[i]  = iron_df['short_calls'][i] - iron_df['long_calls'][i]\n",
    "iron_df['profit'] = profit\n",
    "iron_df['net'] = profit - cost \n",
    "\n",
    "imp_vols = []\n",
    "for i in range(len(iron_df)):\n",
    "    S = iron_df['day_spx'][i]\n",
    "    K = iron_df['short_calls'][i]\n",
    "    r = iron_df['risk_free'][i]\n",
    "    mprice = sc_prices[i]\n",
    "    T = 7/252\n",
    "    iv = ImpliedVol(S,K,r,T,mprice=mprice)\n",
    "    imp_vols.append(iv)\n",
    "iron_df['imp_vols'] = imp_vols"
   ]
  },
  {
   "cell_type": "code",
   "execution_count": 221,
   "metadata": {},
   "outputs": [
    {
     "data": {
      "text/plain": [
       "count    1366.000000\n",
       "mean       -1.162848\n",
       "min       -25.200000\n",
       "25%        -2.200000\n",
       "50%        -1.600000\n",
       "75%        -1.200000\n",
       "max        68.080000\n",
       "std         3.180202\n",
       "Name: net, dtype: float64"
      ]
     },
     "execution_count": 221,
     "metadata": {},
     "output_type": "execute_result"
    }
   ],
   "source": [
    "#Distribution of Net Profit\n",
    "iron_df.describe()['net']"
   ]
  },
  {
   "cell_type": "code",
   "execution_count": 222,
   "metadata": {},
   "outputs": [
    {
     "name": "stdout",
     "output_type": "stream",
     "text": [
      "Median Net Profit of Buy Strat\n",
      "-1.2999999999999972\n",
      "Number of Viable Days\n",
      "1\n"
     ]
    }
   ],
   "source": [
    "print(\"Median Net Profit of Buy Strat\")\n",
    "print(np.median(iron_df[iron_df['imp_vols'] < 0.26]['net']))\n",
    "print(\"Number of Viable Days\")\n",
    "print(len(iron_df[iron_df['imp_vols'] < 0.26]['net']))"
   ]
  },
  {
   "cell_type": "code",
   "execution_count": 223,
   "metadata": {},
   "outputs": [
    {
     "name": "stdout",
     "output_type": "stream",
     "text": [
      "Median Net Profit of Sell Strat\n",
      "1.5999999999999979\n",
      "Number of Viable Days\n",
      "1365\n"
     ]
    }
   ],
   "source": [
    "print(\"Median Net Profit of Sell Strat\")\n",
    "print(-np.median(iron_df[iron_df['imp_vols'] > 0.26]['net']))\n",
    "print(\"Number of Viable Days\")\n",
    "print(len(iron_df[iron_df['imp_vols'] > 0.26]['net']))"
   ]
  },
  {
   "cell_type": "code",
   "execution_count": 225,
   "metadata": {},
   "outputs": [
    {
     "data": {
      "text/plain": [
       "count    1366.000000\n",
       "mean        1.162848\n",
       "min       -68.080000\n",
       "25%         1.200000\n",
       "50%         1.600000\n",
       "75%         2.200000\n",
       "max        25.200000\n",
       "std         3.180202\n",
       "Name: strat_daily_net, dtype: float64"
      ]
     },
     "execution_count": 225,
     "metadata": {},
     "output_type": "execute_result"
    }
   ],
   "source": [
    "iron_df['sell'] = iron_df['imp_vols'] > 0.25\n",
    "\n",
    "iron_df['net_sell'] = -iron_df['net'] * iron_df['sell']\n",
    "iron_df['strat_daily_net'] = iron_df['net_sell']\n",
    "iron_df.describe()['strat_daily_net']"
   ]
  },
  {
   "cell_type": "code",
   "execution_count": 239,
   "metadata": {},
   "outputs": [
    {
     "data": {
      "text/plain": [
       "Text(0.5, 1.0, 'Seven Day IV Strategy Profits')"
      ]
     },
     "execution_count": 239,
     "metadata": {},
     "output_type": "execute_result"
    },
    {
     "data": {
      "image/png": "[encoded data removed]",
      "text/plain": [
       "<Figure size 640x480 with 1 Axes>"
      ]
     },
     "metadata": {},
     "output_type": "display_data"
    }
   ],
   "source": [
    "plt.hist(iron_df['strat_daily_net'], edgecolor = 'black', bins = 25, range = (-10,15))\n",
    "plt.xlabel('profit')\n",
    "plt.ylabel('count')\n",
    "plt.title(\"Seven Day IV Strategy Profits\")"
   ]
  },
  {
   "cell_type": "code",
   "execution_count": 227,
   "metadata": {},
   "outputs": [
    {
     "data": {
      "text/plain": [
       "0.8323572474377745"
      ]
     },
     "execution_count": 227,
     "metadata": {},
     "output_type": "execute_result"
    }
   ],
   "source": [
    "#proportion of days you make money\n",
    "np.sum(iron_df['strat_daily_net'] > 0) /  len(iron_df['strat_daily_net']) "
   ]
  },
  {
   "cell_type": "code",
   "execution_count": 228,
   "metadata": {},
   "outputs": [
    {
     "name": "stdout",
     "output_type": "stream",
     "text": [
      "Median net sell profit with Volume Strat\n",
      "1.6000000000000014\n",
      "Number of Viable Days\n",
      "648\n"
     ]
    }
   ],
   "source": [
    "print('Median net sell profit with Volume Strat')\n",
    "print(-np.median(iron_df[iron_df['lc_volume'] + iron_df['lp_volume'] - iron_df['sc_volume'] - iron_df['sp_volume'] > 0]['net']))\n",
    "print('Number of Viable Days')\n",
    "print(len(iron_df[iron_df['lc_volume'] + iron_df['lp_volume'] - iron_df['sc_volume'] - iron_df['sp_volume'] > 0]))"
   ]
  },
  {
   "cell_type": "code",
   "execution_count": 229,
   "metadata": {},
   "outputs": [
    {
     "data": {
      "text/plain": [
       "count    1366.000000\n",
       "mean        0.529378\n",
       "min       -68.080000\n",
       "25%         0.000000\n",
       "50%         0.000000\n",
       "75%         1.500000\n",
       "max        22.700000\n",
       "std         2.598625\n",
       "Name: volume_strat, dtype: float64"
      ]
     },
     "execution_count": 229,
     "metadata": {},
     "output_type": "execute_result"
    }
   ],
   "source": [
    "#profit each day of volume strat\n",
    "vol_sell = iron_df['lc_volume'] + iron_df['lp_volume'] - iron_df['sc_volume'] - iron_df['sp_volume'] > 0\n",
    "iron_df['volume_strat'] = -iron_df['net'] * vol_sell\n",
    "iron_df.describe()['volume_strat']"
   ]
  },
  {
   "cell_type": "code",
   "execution_count": 238,
   "metadata": {},
   "outputs": [
    {
     "data": {
      "text/plain": [
       "Text(0.5, 1.0, 'Seven Day Volume Strategy Profits')"
      ]
     },
     "execution_count": 238,
     "metadata": {},
     "output_type": "execute_result"
    },
    {
     "data": {
      "image/png": "[encoded data removed]",
      "text/plain": [
       "<Figure size 640x480 with 1 Axes>"
      ]
     },
     "metadata": {},
     "output_type": "display_data"
    }
   ],
   "source": [
    "plt.hist(iron_df['volume_strat'], edgecolor = 'black', bins = 25, range = (-10,15))\n",
    "plt.xlabel('profit')\n",
    "plt.ylabel('count')\n",
    "plt.title(\"Seven Day Volume Strategy Profits\")"
   ]
  },
  {
   "cell_type": "code",
   "execution_count": 231,
   "metadata": {},
   "outputs": [
    {
     "data": {
      "text/plain": [
       "0.39604685212298685"
      ]
     },
     "execution_count": 231,
     "metadata": {},
     "output_type": "execute_result"
    }
   ],
   "source": [
    "#Proportion of days you make a profit\n",
    "np.sum(iron_df['volume_strat'] > 0) /  len(iron_df['volume_strat']) "
   ]
  },
  {
   "cell_type": "markdown",
   "metadata": {},
   "source": [
    "## Fourteen Days to Expiration Iron Condor Strat"
   ]
  },
  {
   "cell_type": "code",
   "execution_count": 198,
   "metadata": {},
   "outputs": [
    {
     "name": "stderr",
     "output_type": "stream",
     "text": [
      "[*********************100%%**********************]  1 of 1 completed"
     ]
    },
    {
     "name": "stderr",
     "output_type": "stream",
     "text": [
      "\n"
     ]
    },
    {
     "data": {
      "text/html": [
       "<div>\n",
       "<style scoped>\n",
       "    .dataframe tbody tr th:only-of-type {\n",
       "        vertical-align: middle;\n",
       "    }\n",
       "\n",
       "    .dataframe tbody tr th {\n",
       "        vertical-align: top;\n",
       "    }\n",
       "\n",
       "    .dataframe thead th {\n",
       "        text-align: right;\n",
       "    }\n",
       "</style>\n",
       "<table border=\"1\" class=\"dataframe\">\n",
       "  <thead>\n",
       "    <tr style=\"text-align: right;\">\n",
       "      <th></th>\n",
       "      <th>date</th>\n",
       "      <th>exdate</th>\n",
       "      <th>last_date</th>\n",
       "      <th>cp_flag</th>\n",
       "      <th>strike_price</th>\n",
       "      <th>best_bid</th>\n",
       "      <th>best_offer</th>\n",
       "      <th>volume</th>\n",
       "      <th>open_interest</th>\n",
       "      <th>am_settlement</th>\n",
       "      <th>contract_size</th>\n",
       "      <th>expiry_indicator</th>\n",
       "      <th>spread</th>\n",
       "      <th>mid_price</th>\n",
       "      <th>time_to_exp</th>\n",
       "      <th>weekday</th>\n",
       "      <th>month</th>\n",
       "      <th>year</th>\n",
       "      <th>risk_free</th>\n",
       "    </tr>\n",
       "  </thead>\n",
       "  <tbody>\n",
       "    <tr>\n",
       "      <th>0</th>\n",
       "      <td>2010-03-17</td>\n",
       "      <td>2010-03-31</td>\n",
       "      <td>2010-03-09</td>\n",
       "      <td>C</td>\n",
       "      <td>1000.0</td>\n",
       "      <td>163.5</td>\n",
       "      <td>167.7</td>\n",
       "      <td>0</td>\n",
       "      <td>1</td>\n",
       "      <td>0</td>\n",
       "      <td>100</td>\n",
       "      <td>m</td>\n",
       "      <td>4.2</td>\n",
       "      <td>165.6</td>\n",
       "      <td>14 days</td>\n",
       "      <td>2</td>\n",
       "      <td>3</td>\n",
       "      <td>2010</td>\n",
       "      <td>3.642</td>\n",
       "    </tr>\n",
       "    <tr>\n",
       "      <th>1</th>\n",
       "      <td>2010-03-17</td>\n",
       "      <td>2010-03-31</td>\n",
       "      <td>2010-03-17</td>\n",
       "      <td>C</td>\n",
       "      <td>1025.0</td>\n",
       "      <td>138.7</td>\n",
       "      <td>142.9</td>\n",
       "      <td>20</td>\n",
       "      <td>3</td>\n",
       "      <td>0</td>\n",
       "      <td>100</td>\n",
       "      <td>m</td>\n",
       "      <td>4.2</td>\n",
       "      <td>140.8</td>\n",
       "      <td>14 days</td>\n",
       "      <td>2</td>\n",
       "      <td>3</td>\n",
       "      <td>2010</td>\n",
       "      <td>3.642</td>\n",
       "    </tr>\n",
       "    <tr>\n",
       "      <th>2</th>\n",
       "      <td>2010-03-17</td>\n",
       "      <td>2010-03-31</td>\n",
       "      <td>2010-03-10</td>\n",
       "      <td>C</td>\n",
       "      <td>1050.0</td>\n",
       "      <td>113.8</td>\n",
       "      <td>118.0</td>\n",
       "      <td>0</td>\n",
       "      <td>27</td>\n",
       "      <td>0</td>\n",
       "      <td>100</td>\n",
       "      <td>m</td>\n",
       "      <td>4.2</td>\n",
       "      <td>115.9</td>\n",
       "      <td>14 days</td>\n",
       "      <td>2</td>\n",
       "      <td>3</td>\n",
       "      <td>2010</td>\n",
       "      <td>3.642</td>\n",
       "    </tr>\n",
       "    <tr>\n",
       "      <th>3</th>\n",
       "      <td>2010-03-17</td>\n",
       "      <td>2010-03-31</td>\n",
       "      <td>NaN</td>\n",
       "      <td>C</td>\n",
       "      <td>1060.0</td>\n",
       "      <td>104.0</td>\n",
       "      <td>108.2</td>\n",
       "      <td>0</td>\n",
       "      <td>0</td>\n",
       "      <td>0</td>\n",
       "      <td>100</td>\n",
       "      <td>m</td>\n",
       "      <td>4.2</td>\n",
       "      <td>106.1</td>\n",
       "      <td>14 days</td>\n",
       "      <td>2</td>\n",
       "      <td>3</td>\n",
       "      <td>2010</td>\n",
       "      <td>3.642</td>\n",
       "    </tr>\n",
       "    <tr>\n",
       "      <th>4</th>\n",
       "      <td>2010-03-17</td>\n",
       "      <td>2010-03-31</td>\n",
       "      <td>NaN</td>\n",
       "      <td>C</td>\n",
       "      <td>1065.0</td>\n",
       "      <td>99.0</td>\n",
       "      <td>103.2</td>\n",
       "      <td>0</td>\n",
       "      <td>0</td>\n",
       "      <td>0</td>\n",
       "      <td>100</td>\n",
       "      <td>m</td>\n",
       "      <td>4.2</td>\n",
       "      <td>101.1</td>\n",
       "      <td>14 days</td>\n",
       "      <td>2</td>\n",
       "      <td>3</td>\n",
       "      <td>2010</td>\n",
       "      <td>3.642</td>\n",
       "    </tr>\n",
       "  </tbody>\n",
       "</table>\n",
       "</div>"
      ],
      "text/plain": [
       "        date     exdate   last_date cp_flag  strike_price  best_bid  \\\n",
       "0 2010-03-17 2010-03-31  2010-03-09       C        1000.0     163.5   \n",
       "1 2010-03-17 2010-03-31  2010-03-17       C        1025.0     138.7   \n",
       "2 2010-03-17 2010-03-31  2010-03-10       C        1050.0     113.8   \n",
       "3 2010-03-17 2010-03-31         NaN       C        1060.0     104.0   \n",
       "4 2010-03-17 2010-03-31         NaN       C        1065.0      99.0   \n",
       "\n",
       "   best_offer  volume  open_interest  am_settlement  contract_size  \\\n",
       "0       167.7       0              1              0            100   \n",
       "1       142.9      20              3              0            100   \n",
       "2       118.0       0             27              0            100   \n",
       "3       108.2       0              0              0            100   \n",
       "4       103.2       0              0              0            100   \n",
       "\n",
       "  expiry_indicator  spread  mid_price time_to_exp  weekday  month  year  \\\n",
       "0                m     4.2      165.6     14 days        2      3  2010   \n",
       "1                m     4.2      140.8     14 days        2      3  2010   \n",
       "2                m     4.2      115.9     14 days        2      3  2010   \n",
       "3                m     4.2      106.1     14 days        2      3  2010   \n",
       "4                m     4.2      101.1     14 days        2      3  2010   \n",
       "\n",
       "   risk_free  \n",
       "0      3.642  \n",
       "1      3.642  \n",
       "2      3.642  \n",
       "3      3.642  \n",
       "4      3.642  "
      ]
     },
     "execution_count": 198,
     "metadata": {},
     "output_type": "execute_result"
    }
   ],
   "source": [
    "#add risk free rate to dataset\n",
    "import yfinance\n",
    "first_date = fourteenDTE['date'][0]\n",
    "last_date = fourteenDTE['date'][len(fourteenDTE)-1]\n",
    "rf = yfinance.download(\"^TNX\",  start = first_date , end = last_date + timedelta(days=1))\n",
    "rfr = rf.reset_index()[[\"Date\",'Close']]\n",
    "rfourteenDTE = fourteenDTE.merge(rfr, left_on='date', right_on='Date', how='left').drop(['Date','index'], axis = 1).rename(columns={\"Close\": \"risk_free\"})\n",
    "rfourteenDTE.head()"
   ]
  },
  {
   "cell_type": "code",
   "execution_count": 199,
   "metadata": {},
   "outputs": [],
   "source": [
    "# Find strikes and prices of options for each date for the strategy\n",
    "lput_strikes = []\n",
    "sput_strikes = []\n",
    "scall_strikes = []\n",
    "lcall_strikes = []\n",
    "\n",
    "lp_vols = []\n",
    "sp_vols = []\n",
    "sc_vols = []\n",
    "lc_vols = []\n",
    "\n",
    "unique_dates = rfourteenDTE['date'].unique()\n",
    "\n",
    "lp_prices = []\n",
    "sp_prices = []\n",
    "sc_prices = []\n",
    "lc_prices = []\n",
    "spx_next_day = []\n",
    "spx_day = []\n",
    "dates = []\n",
    "rates = []\n",
    "\n",
    "for i in unique_dates[:-14]:\n",
    "    j = index[index['date'] == i].index[0]\n",
    "\n",
    "    strikesi = rfourteenDTE[(rfourteenDTE['date'] == i)]['strike_price'].sort_values().reset_index()['strike_price']\n",
    "    indexj = index.iloc[j]['close']\n",
    "    nearest_real_strike_index = find_nearest(strikesi,indexj)\n",
    "\n",
    "    lput_strike = strikesi[nearest_real_strike_index-5]\n",
    "    sput_strike = strikesi[nearest_real_strike_index-3]\n",
    "    scall_strike = strikesi[nearest_real_strike_index+3]\n",
    "    lcall_strike = strikesi[nearest_real_strike_index+5]\n",
    "    if sput_strike - lput_strike != lcall_strike - scall_strike:\n",
    "        lput_strike = strikesi[find_nearest(strikesi, sput_strike - lcall_strike + scall_strike)]\n",
    "    if sput_strike - lput_strike == lcall_strike - scall_strike:\n",
    "        lput_strikes.append(lput_strike)\n",
    "        sput_strikes.append(sput_strike)\n",
    "        scall_strikes.append(scall_strike)\n",
    "        lcall_strikes.append(lcall_strike)\n",
    "\n",
    "        lp_price = rfourteenDTE[(rfourteenDTE['date'] == i) & (rfourteenDTE['cp_flag'] == 'P') & (rfourteenDTE['strike_price'] == lput_strike)]['best_offer'].iloc[0]\n",
    "        sp_price = rfourteenDTE[(rfourteenDTE['date'] == i) & (rfourteenDTE['cp_flag'] == 'P') & (rfourteenDTE['strike_price'] == sput_strike)]['best_bid'].iloc[0]\n",
    "        lc_price = rfourteenDTE[(rfourteenDTE['date'] == i) & (rfourteenDTE['cp_flag'] == 'C') & (rfourteenDTE['strike_price'] == lcall_strike)]['best_offer'].iloc[0]\n",
    "        sc_price = rfourteenDTE[(rfourteenDTE['date'] == i) & (rfourteenDTE['cp_flag'] == 'C') & (rfourteenDTE['strike_price'] == scall_strike)]['best_bid'].iloc[0]\n",
    "\n",
    "        lp_vol = rfourteenDTE[(rfourteenDTE['date'] == i) & (rfourteenDTE['cp_flag'] == 'P') & (rfourteenDTE['strike_price'] == lput_strike)]['volume'].iloc[0]\n",
    "        sp_vol = rfourteenDTE[(rfourteenDTE['date'] == i) & (rfourteenDTE['cp_flag'] == 'P') & (rfourteenDTE['strike_price'] == sput_strike)]['volume'].iloc[0]\n",
    "        lc_vol = rfourteenDTE[(rfourteenDTE['date'] == i) & (rfourteenDTE['cp_flag'] == 'C') & (rfourteenDTE['strike_price'] == lcall_strike)]['volume'].iloc[0]\n",
    "        sc_vol = rfourteenDTE[(rfourteenDTE['date'] == i) & (rfourteenDTE['cp_flag'] == 'C') & (rfourteenDTE['strike_price'] == scall_strike)]['volume'].iloc[0]\n",
    "\n",
    "        rfr = rfourteenDTE[(rfourteenDTE['date'] == i)]['risk_free'].iloc[0]\n",
    "        rates.append(rfr)\n",
    "\n",
    "        lp_prices.append(lp_price)\n",
    "        sp_prices.append(sp_price)\n",
    "        sc_prices.append(sc_price)\n",
    "        lc_prices.append(lc_price)\n",
    "\n",
    "        lp_vols.append(lp_vol)\n",
    "        sp_vols.append(sp_vol)\n",
    "        sc_vols.append(sc_vol)\n",
    "        lc_vols.append(lc_vol)\n",
    "\n",
    "        next_day = index['close'][j+7]\n",
    "        day_of = index['close'][j]\n",
    "        date = index['date'][j]\n",
    "        spx_next_day.append(next_day)\n",
    "        spx_day.append(day_of)\n",
    "        dates.append(date)\n",
    "cost  = np.array(lp_prices) - np.array(sp_prices) -  np.array(sc_prices) + np.array(lc_prices)"
   ]
  },
  {
   "cell_type": "code",
   "execution_count": 200,
   "metadata": {},
   "outputs": [
    {
     "data": {
      "text/html": [
       "<div>\n",
       "<style scoped>\n",
       "    .dataframe tbody tr th:only-of-type {\n",
       "        vertical-align: middle;\n",
       "    }\n",
       "\n",
       "    .dataframe tbody tr th {\n",
       "        vertical-align: top;\n",
       "    }\n",
       "\n",
       "    .dataframe thead th {\n",
       "        text-align: right;\n",
       "    }\n",
       "</style>\n",
       "<table border=\"1\" class=\"dataframe\">\n",
       "  <thead>\n",
       "    <tr style=\"text-align: right;\">\n",
       "      <th></th>\n",
       "      <th>date</th>\n",
       "      <th>long_puts</th>\n",
       "      <th>short_puts</th>\n",
       "      <th>short_calls</th>\n",
       "      <th>long_calls</th>\n",
       "      <th>lp_volume</th>\n",
       "      <th>sp_volume</th>\n",
       "      <th>sc_volume</th>\n",
       "      <th>lc_volume</th>\n",
       "      <th>next_day_spx</th>\n",
       "      <th>day_spx</th>\n",
       "      <th>risk_free</th>\n",
       "      <th>cost</th>\n",
       "    </tr>\n",
       "  </thead>\n",
       "  <tbody>\n",
       "    <tr>\n",
       "      <th>0</th>\n",
       "      <td>2010-03-17</td>\n",
       "      <td>1150.0</td>\n",
       "      <td>1155.0</td>\n",
       "      <td>1170.0</td>\n",
       "      <td>1175.0</td>\n",
       "      <td>735</td>\n",
       "      <td>117</td>\n",
       "      <td>288</td>\n",
       "      <td>4041</td>\n",
       "      <td>1166.59</td>\n",
       "      <td>1166.21</td>\n",
       "      <td>3.642</td>\n",
       "      <td>-0.7</td>\n",
       "    </tr>\n",
       "    <tr>\n",
       "      <th>1</th>\n",
       "      <td>2010-06-16</td>\n",
       "      <td>1100.0</td>\n",
       "      <td>1105.0</td>\n",
       "      <td>1120.0</td>\n",
       "      <td>1125.0</td>\n",
       "      <td>3704</td>\n",
       "      <td>0</td>\n",
       "      <td>12</td>\n",
       "      <td>530</td>\n",
       "      <td>1076.76</td>\n",
       "      <td>1114.61</td>\n",
       "      <td>3.282</td>\n",
       "      <td>1.0</td>\n",
       "    </tr>\n",
       "    <tr>\n",
       "      <th>2</th>\n",
       "      <td>2010-09-16</td>\n",
       "      <td>1110.0</td>\n",
       "      <td>1115.0</td>\n",
       "      <td>1130.0</td>\n",
       "      <td>1135.0</td>\n",
       "      <td>1</td>\n",
       "      <td>1652</td>\n",
       "      <td>79</td>\n",
       "      <td>156</td>\n",
       "      <td>1142.16</td>\n",
       "      <td>1124.66</td>\n",
       "      <td>2.759</td>\n",
       "      <td>-0.3</td>\n",
       "    </tr>\n",
       "    <tr>\n",
       "      <th>3</th>\n",
       "      <td>2010-12-17</td>\n",
       "      <td>1230.0</td>\n",
       "      <td>1235.0</td>\n",
       "      <td>1250.0</td>\n",
       "      <td>1255.0</td>\n",
       "      <td>1681</td>\n",
       "      <td>6</td>\n",
       "      <td>1596</td>\n",
       "      <td>20</td>\n",
       "      <td>1259.78</td>\n",
       "      <td>1243.91</td>\n",
       "      <td>3.330</td>\n",
       "      <td>-1.5</td>\n",
       "    </tr>\n",
       "    <tr>\n",
       "      <th>4</th>\n",
       "      <td>2011-03-17</td>\n",
       "      <td>1260.0</td>\n",
       "      <td>1265.0</td>\n",
       "      <td>1280.0</td>\n",
       "      <td>1285.0</td>\n",
       "      <td>161</td>\n",
       "      <td>886</td>\n",
       "      <td>31</td>\n",
       "      <td>0</td>\n",
       "      <td>1310.19</td>\n",
       "      <td>1273.72</td>\n",
       "      <td>3.248</td>\n",
       "      <td>-1.0</td>\n",
       "    </tr>\n",
       "  </tbody>\n",
       "</table>\n",
       "</div>"
      ],
      "text/plain": [
       "        date  long_puts  short_puts  short_calls  long_calls  lp_volume  \\\n",
       "0 2010-03-17     1150.0      1155.0       1170.0      1175.0        735   \n",
       "1 2010-06-16     1100.0      1105.0       1120.0      1125.0       3704   \n",
       "2 2010-09-16     1110.0      1115.0       1130.0      1135.0          1   \n",
       "3 2010-12-17     1230.0      1235.0       1250.0      1255.0       1681   \n",
       "4 2011-03-17     1260.0      1265.0       1280.0      1285.0        161   \n",
       "\n",
       "   sp_volume  sc_volume  lc_volume  next_day_spx  day_spx  risk_free  cost  \n",
       "0        117        288       4041       1166.59  1166.21      3.642  -0.7  \n",
       "1          0         12        530       1076.76  1114.61      3.282   1.0  \n",
       "2       1652         79        156       1142.16  1124.66      2.759  -0.3  \n",
       "3          6       1596         20       1259.78  1243.91      3.330  -1.5  \n",
       "4        886         31          0       1310.19  1273.72      3.248  -1.0  "
      ]
     },
     "execution_count": 200,
     "metadata": {},
     "output_type": "execute_result"
    }
   ],
   "source": [
    "iron_df = pd.DataFrame({'date': dates, \n",
    "                        'long_puts': lput_strikes, 'short_puts': sput_strikes, 'short_calls':scall_strikes,'long_calls':lcall_strikes, \n",
    "                        'lp_volume': lp_vols, 'sp_volume':sp_vols, 'sc_volume': sc_vols, 'lc_volume': lc_vols,\n",
    "                        'next_day_spx': spx_next_day, \"day_spx\":spx_day, \"risk_free\":rates, 'cost': cost})\n",
    "iron_df.head()"
   ]
  },
  {
   "cell_type": "code",
   "execution_count": 201,
   "metadata": {},
   "outputs": [],
   "source": [
    "#Calculate profit and implied volatility for strategy at each given date\n",
    "profit  = np.zeros(len(iron_df))\n",
    "for i in range(len(iron_df)):\n",
    "    if (iron_df['short_puts'][i] - iron_df['long_puts'][i] != iron_df['long_calls'][i] - iron_df['short_calls'][i]):\n",
    "        continue\n",
    "    elif (iron_df['next_day_spx'][i] <= iron_df['short_calls'][i]) and (iron_df['next_day_spx'][i] >= iron_df['short_calls'][i]):\n",
    "        profit[i] = 0\n",
    "    elif (iron_df['next_day_spx'][i] >= iron_df['short_calls'][i]) and (iron_df['next_day_spx'][i] <= iron_df['long_calls'][i]):\n",
    "        profit[i] = iron_df['short_calls'][i] - iron_df['next_day_spx'][i]\n",
    "    elif (iron_df['next_day_spx'][i] >= iron_df['long_puts'][i]) and (iron_df['next_day_spx'][i] <= iron_df['short_puts'][i]):\n",
    "        profit[i] = iron_df['short_puts'][i] - iron_df['next_day_spx'][i]\n",
    "    elif(iron_df['next_day_spx'][i] <= iron_df['long_puts'][i]):\n",
    "        profit[i] = iron_df['long_puts'][i] - iron_df['short_puts'][i]\n",
    "    elif (iron_df['next_day_spx'][i] >= iron_df['long_calls'][i]):\n",
    "        profit[i]  = iron_df['short_calls'][i] - iron_df['long_calls'][i]\n",
    "iron_df['profit'] = profit\n",
    "iron_df['net'] = profit - cost \n",
    "\n",
    "\n",
    "imp_vols = []\n",
    "for i in range(len(iron_df)):\n",
    "    S = iron_df['day_spx'][i]\n",
    "    K = iron_df['short_calls'][i]\n",
    "    r = iron_df['risk_free'][i]\n",
    "    mprice = sc_prices[i]\n",
    "    T = 14/252\n",
    "    iv = ImpliedVol(S,K,r,T,mprice=mprice)\n",
    "    imp_vols.append(iv)\n",
    "iron_df['imp_vols'] = imp_vols\n"
   ]
  },
  {
   "cell_type": "code",
   "execution_count": 202,
   "metadata": {},
   "outputs": [
    {
     "data": {
      "text/plain": [
       "count    1276.000000\n",
       "mean       -1.196622\n",
       "min      -133.800000\n",
       "25%        -2.000000\n",
       "50%        -1.500000\n",
       "75%        -1.200000\n",
       "max         8.300000\n",
       "std         4.409167\n",
       "Name: net, dtype: float64"
      ]
     },
     "execution_count": 202,
     "metadata": {},
     "output_type": "execute_result"
    }
   ],
   "source": [
    "#distribution of net profit\n",
    "iron_df.describe()['net']"
   ]
  },
  {
   "cell_type": "code",
   "execution_count": 203,
   "metadata": {},
   "outputs": [
    {
     "name": "stdout",
     "output_type": "stream",
     "text": [
      "Median Net Profit\n",
      "-1.9000000000000057\n",
      "Number of Viable Days\n",
      "1\n"
     ]
    }
   ],
   "source": [
    "print('Median Net Profit')\n",
    "print(np.median(iron_df[iron_df['imp_vols'] < 0.34]['net']))\n",
    "print('Number of Viable Days')\n",
    "print(len(iron_df[iron_df['imp_vols'] < 0.34]['net']))\n"
   ]
  },
  {
   "cell_type": "code",
   "execution_count": 204,
   "metadata": {},
   "outputs": [
    {
     "name": "stdout",
     "output_type": "stream",
     "text": [
      "Median Net Profit of Sell Strat\n",
      "1.5000000000000036\n",
      "Number of Viable Days\n",
      "1276\n"
     ]
    }
   ],
   "source": [
    "print(\"Median Net Profit of Sell Strat\")\n",
    "print(-np.median(iron_df[iron_df['imp_vols'] > 0.3]['net']))\n",
    "print(\"Number of Viable Days\")\n",
    "print(len(iron_df[iron_df['imp_vols'] > 0.3]['net']))"
   ]
  },
  {
   "cell_type": "code",
   "execution_count": 206,
   "metadata": {},
   "outputs": [
    {
     "data": {
      "text/plain": [
       "count    1276.000000\n",
       "mean        1.196622\n",
       "min        -8.300000\n",
       "25%         1.200000\n",
       "50%         1.500000\n",
       "75%         2.000000\n",
       "max       133.800000\n",
       "std         4.409167\n",
       "Name: strat_daily_net, dtype: float64"
      ]
     },
     "execution_count": 206,
     "metadata": {},
     "output_type": "execute_result"
    }
   ],
   "source": [
    "#profit each day of volatility strat\n",
    "iron_df['sell'] = iron_df['imp_vols'] > 0.3\n",
    "iron_df['net_sell'] = -iron_df['net'] * iron_df['sell']\n",
    "iron_df['strat_daily_net'] = iron_df['net_sell']\n",
    "iron_df.describe()['strat_daily_net']"
   ]
  },
  {
   "cell_type": "code",
   "execution_count": 216,
   "metadata": {},
   "outputs": [
    {
     "data": {
      "text/plain": [
       "Text(0.5, 1.0, 'Fourteen Day IV Strategy Profits')"
      ]
     },
     "execution_count": 216,
     "metadata": {},
     "output_type": "execute_result"
    },
    {
     "data": {
      "image/png": "[encoded data removed]",
      "text/plain": [
       "<Figure size 640x480 with 1 Axes>"
      ]
     },
     "metadata": {},
     "output_type": "display_data"
    }
   ],
   "source": [
    "plt.hist(iron_df['strat_daily_net'], edgecolor = 'black', bins = 30, range = (-10,20))\n",
    "plt.xlabel('profit')\n",
    "plt.ylabel('count')\n",
    "plt.title(\"Fourteen Day IV Strategy Profits\")"
   ]
  },
  {
   "cell_type": "code",
   "execution_count": 208,
   "metadata": {},
   "outputs": [
    {
     "data": {
      "text/plain": [
       "0.8362068965517241"
      ]
     },
     "execution_count": 208,
     "metadata": {},
     "output_type": "execute_result"
    }
   ],
   "source": [
    "np.sum(iron_df['strat_daily_net'] > 0) /  len(iron_df['strat_daily_net']) "
   ]
  },
  {
   "cell_type": "code",
   "execution_count": 209,
   "metadata": {},
   "outputs": [
    {
     "name": "stdout",
     "output_type": "stream",
     "text": [
      "Median net sell profit with Volume Strat\n",
      "1.5000000000000107\n",
      "Number of Viable Days\n",
      "612\n"
     ]
    }
   ],
   "source": [
    "print('Median net sell profit with Volume Strat')\n",
    "print(-np.median(iron_df[iron_df['lc_volume'] + iron_df['lp_volume'] - iron_df['sc_volume'] - iron_df['sp_volume'] > 0]['net']))\n",
    "print('Number of Viable Days')\n",
    "print(len(iron_df[iron_df['lc_volume'] + iron_df['lp_volume'] - iron_df['sc_volume'] - iron_df['sp_volume'] > 0]))"
   ]
  },
  {
   "cell_type": "code",
   "execution_count": 211,
   "metadata": {},
   "outputs": [
    {
     "data": {
      "text/plain": [
       "count    1276.000000\n",
       "mean        0.625431\n",
       "min        -7.800000\n",
       "25%         0.000000\n",
       "50%         0.000000\n",
       "75%         1.500000\n",
       "max       133.800000\n",
       "std         4.121942\n",
       "Name: volume_strat, dtype: float64"
      ]
     },
     "execution_count": 211,
     "metadata": {},
     "output_type": "execute_result"
    }
   ],
   "source": [
    "#profit each day of volume strat\n",
    "vol_sell = iron_df['lc_volume'] + iron_df['lp_volume'] - iron_df['sc_volume'] - iron_df['sp_volume'] > 0\n",
    "iron_df['volume_strat'] = -iron_df['net'] * vol_sell\n",
    "iron_df.describe()['volume_strat']\n"
   ]
  },
  {
   "cell_type": "code",
   "execution_count": 215,
   "metadata": {},
   "outputs": [
    {
     "data": {
      "text/plain": [
       "Text(0.5, 1.0, 'Fourteen Day Volume Strategy Profits')"
      ]
     },
     "execution_count": 215,
     "metadata": {},
     "output_type": "execute_result"
    },
    {
     "data": {
      "image/png": "[encoded data removed]",
      "text/plain": [
       "<Figure size 640x480 with 1 Axes>"
      ]
     },
     "metadata": {},
     "output_type": "display_data"
    }
   ],
   "source": [
    "plt.hist(iron_df['volume_strat'], edgecolor = 'black', bins = 30, range = (-10,20))\n",
    "plt.xlabel('profit')\n",
    "plt.ylabel('count')\n",
    "plt.title(\"Fourteen Day Volume Strategy Profits\")"
   ]
  },
  {
   "cell_type": "code",
   "execution_count": 213,
   "metadata": {},
   "outputs": [
    {
     "data": {
      "text/plain": [
       "0.40282131661442006"
      ]
     },
     "execution_count": 213,
     "metadata": {},
     "output_type": "execute_result"
    }
   ],
   "source": [
    "np.sum(iron_df['volume_strat'] > 0) / len(iron_df['volume_strat'])"
   ]
  }
 ],
 "metadata": {
  "kernelspec": {
   "display_name": ".venv",
   "language": "python",
   "name": "python3"
  },
  "language_info": {
   "codemirror_mode": {
    "name": "ipython",
    "version": 3
   },
   "file_extension": ".py",
   "mimetype": "text/x-python",
   "name": "python",
   "nbconvert_exporter": "python",
   "pygments_lexer": "ipython3",
   "version": "3.9.13"
  }
 },
 "nbformat": 4,
 "nbformat_minor": 2
}
