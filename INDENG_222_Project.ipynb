{
  "nbformat": 4,
  "nbformat_minor": 0,
  "metadata": {
    "colab": {
      "provenance": []
    },
    "kernelspec": {
      "name": "python3",
      "display_name": "Python 3"
    },
    "language_info": {
      "name": "python"
    }
  },
  "cells": [
    {
      "cell_type": "markdown",
      "source": [
        "## INDENG 222 Project\n",
        "By: Adrian Enders, Rena Wang"
      ],
      "metadata": {
        "id": "lCFGWGYwtzV1"
      }
    },
    {
      "cell_type": "code",
      "source": [
        "#importing necessary libararies and setting values M and N\n",
        "import numpy.random as npr\n",
        "import numpy as np\n",
        "npr.seed(222)\n",
        "N = 100\n",
        "M = 10000"
      ],
      "metadata": {
        "id": "8ZuX5Y-vuIUh"
      },
      "execution_count": 3,
      "outputs": []
    },
    {
      "cell_type": "markdown",
      "source": [
        "#### 1 Brownian Motion and Black Scholes Model"
      ],
      "metadata": {
        "id": "JuSH_CSdtVfs"
      }
    },
    {
      "cell_type": "code",
      "source": [
        "# 1.1 Brownaian Motion\n",
        "\n",
        "def gen_rw(t):\n",
        "  W1 = np.zeros(M)\n",
        "  #We create M generations of our random walk\n",
        "  for i in range(M):\n",
        "      # 1.1.1 This gives us a program of a random walk\n",
        "      X = npr.choice([-1,1],N*t)\n",
        "      W = sum(X)/np.sqrt(N)\n",
        "      W1[i] = W\n",
        "\n",
        "  print(f\"E[W{t}]: {np.round(np.mean(W1),3)} Var[W{t}]: {np.round(np.var(W1),3)}\")\n",
        "\n",
        "#1.1.2 generating M paths for t = 1, 5, 10\n",
        "gen_rw(1)\n",
        "gen_rw(5)\n",
        "gen_rw(10)"
      ],
      "metadata": {
        "colab": {
          "base_uri": "https://localhost:8080/"
        },
        "id": "2M2kzAjjt74X",
        "outputId": "4378f59c-b10c-4c77-9f05-25c2ba358885"
      },
      "execution_count": null,
      "outputs": [
        {
          "output_type": "stream",
          "name": "stdout",
          "text": [
            "E[W1]: 0.002 Var[W1]: 1.017\n",
            "E[W5]: -0.016 Var[W5]: 4.984\n",
            "E[W10]: 0.04 Var[W10]: 10.106\n"
          ]
        }
      ]
    },
    {
      "cell_type": "markdown",
      "source": [
        "We can see in the above that the expected value of W for any t is roughly zero with variance of roughly t"
      ],
      "metadata": {
        "id": "ZmCYl-VEQgLy"
      }
    },
    {
      "cell_type": "code",
      "source": [
        "#1.1.3\n",
        "t = np.arange(0.1,1.1,0.1)\n",
        "quad_vars = np.zeros(10)\n",
        "for ti in t:\n",
        "    X = npr.choice([-1,1],int(N*ti))\n",
        "    quad_vars[int(ti*10-1)] = np.sum(np.abs(X) ** 2/ (N))\n",
        "quad_vars"
      ],
      "metadata": {
        "colab": {
          "base_uri": "https://localhost:8080/"
        },
        "id": "1Q9bEOLHPxn2",
        "outputId": "f84eac97-adc9-4c8d-801e-7e4070a1e7e8"
      },
      "execution_count": null,
      "outputs": [
        {
          "output_type": "execute_result",
          "data": {
            "text/plain": [
              "array([0.1, 0.2, 0.3, 0.4, 0.5, 0.6, 0.7, 0.8, 0.9, 1. ])"
            ]
          },
          "metadata": {},
          "execution_count": 4
        }
      ]
    },
    {
      "cell_type": "markdown",
      "source": [
        "In the above, we take the property that $[W,W]_t$ = $\\sum$$|X_j|^2$ / N. Here N = 200 and we some $X_j$ to N * t. For every t we can see that $[W,W]_t$ = t"
      ],
      "metadata": {
        "id": "bVSp5omiRwcm"
      }
    },
    {
      "cell_type": "code",
      "source": [
        "#1.2.1\n",
        "t = 1\n",
        "path = npr.choice([-1,1],N*t)\n",
        "\n",
        "I_top_est = 0\n",
        "for i in range(len(path)-1):\n",
        "  wi = sum(path[0:i])/np.sqrt(N)\n",
        "  wiplus  = sum(path[0:i+1])/np.sqrt(N)\n",
        "  I_top_est += wiplus * (wiplus-wi)\n",
        "I_top_numerical = (sum(path) /np.sqrt(N))  ** 2 / 2 + 0.5\n",
        "print((I_top_est, I_top_numerical))\n",
        "\n",
        "#1.2.2\n",
        "t = 1\n",
        "path = npr.choice([-1,1],N*t)\n",
        "\n",
        "I_bott_est = 0\n",
        "for i in range(len(path)-1):\n",
        "  wi = sum(path[0:i])/np.sqrt(N)\n",
        "  wiplus  = sum(path[0:i+1])/np.sqrt(N)\n",
        "  I_bott_est += wi * (wiplus-wi)\n",
        "I_bott_numerical = (sum(path) /np.sqrt(N))  ** 2 / 2 - 0.5\n",
        "print((I_bott_est, I_bott_numerical))"
      ],
      "metadata": {
        "colab": {
          "base_uri": "https://localhost:8080/"
        },
        "id": "gROIxa85SBrl",
        "outputId": "17153250-6b10-4e9f-8f5e-b6e409558d7c"
      },
      "execution_count": null,
      "outputs": [
        {
          "output_type": "stream",
          "name": "stdout",
          "text": [
            "(2.299999999999998, 2.5)\n",
            "(0.35000000000000003, 0.21999999999999997)\n"
          ]
        }
      ]
    },
    {
      "cell_type": "markdown",
      "source": [
        "For Ito's formula we use <u>I</u> or $I$ underlined as the Ito integral of $W_1$"
      ],
      "metadata": {
        "id": "Wnay4xS8Fz83"
      }
    },
    {
      "cell_type": "code",
      "source": [
        "#1.2.4\n",
        "estimates = np.zeros(M)\n",
        "estimates_squared = np.zeros(M)\n",
        "for j in range(M):\n",
        "  t = 1\n",
        "  path = npr.choice([-1,1],N*t)\n",
        "\n",
        "  I_bott_est = 0\n",
        "  for i in range(len(path)-1):\n",
        "    wi = sum(path[0:i])/np.sqrt(N)\n",
        "    wiplus  = sum(path[0:i+1])/np.sqrt(N)\n",
        "    I_bott_est += wi * (wiplus-wi)\n",
        "  estimates[j] = I_bott_est\n",
        "  estimates_squared[j] = I_bott_est **2\n",
        "print(np.mean(estimates))\n",
        "print(np.mean(estimates_squared))\n"
      ],
      "metadata": {
        "colab": {
          "base_uri": "https://localhost:8080/"
        },
        "id": "yOaRD6rZJj7G",
        "outputId": "fa5b38fd-05b6-4f4d-8d86-06820a189b93"
      },
      "execution_count": null,
      "outputs": [
        {
          "output_type": "stream",
          "name": "stdout",
          "text": [
            "0.00925200000000003\n",
            "0.4806213600000001\n"
          ]
        }
      ]
    },
    {
      "cell_type": "markdown",
      "source": [
        "The mean $I$ is close to zero and the mean $I^2$ is close to 0.5. Which is what we expect for the theoretical values of the mean and variance of $W_1$ which are 0 and 0.5 respectively."
      ],
      "metadata": {
        "id": "RwSVk4dS-iXe"
      }
    },
    {
      "cell_type": "code",
      "source": [
        "#1.3.1.1\n",
        "S0 = 100\n",
        "r = 0.01\n",
        "sig = 0.2\n",
        "\n",
        "def explicitSDE(t):\n",
        "  return S0 * np.e ** (sig * sum(Wpath) / np.sqrt(N) + (r-sig**2/2)*t)\n",
        "\n",
        "\n",
        "def EMscheme(t):\n",
        "  St = np.zeros(int(N*t))\n",
        "  for i in range(int(N*t)):\n",
        "    if i == 0:\n",
        "      St[i] = S0\n",
        "    else:\n",
        "      St[i] = St[i-1] * (1 + r*(t/N) + sig * (Wpath[i-1]/np.sqrt(N)))\n",
        "  return St[-1]\n",
        "\n",
        "t = np.arange(0.1,1,0.1)\n",
        "for ti in t:\n",
        "  Wpath = npr.choice([-1,1],int(N*ti))\n",
        "  print(f't = {np.round(ti,2)}, EM estimate = {np.round(EMscheme(ti),2)} ,SDE estimate = {np.round(explicitSDE(ti),2)}')\n"
      ],
      "metadata": {
        "colab": {
          "base_uri": "https://localhost:8080/"
        },
        "id": "d85a2CbfKpjT",
        "outputId": "7288e7b3-0b05-4201-c7c7-e774971d4a17"
      },
      "execution_count": null,
      "outputs": [
        {
          "output_type": "stream",
          "name": "stdout",
          "text": [
            "t = 0.1, EM estimate = 101.85 ,SDE estimate = 99.9\n",
            "t = 0.2, EM estimate = 93.85 ,SDE estimate = 95.89\n",
            "t = 0.3, EM estimate = 119.14 ,SDE estimate = 121.77\n",
            "t = 0.4, EM estimate = 101.39 ,SDE estimate = 99.6\n",
            "t = 0.5, EM estimate = 97.3 ,SDE estimate = 99.5\n",
            "t = 0.6, EM estimate = 105.31 ,SDE estimate = 103.46\n",
            "t = 0.7, EM estimate = 114.0 ,SDE estimate = 111.96\n",
            "t = 0.8, EM estimate = 55.46 ,SDE estimate = 56.67\n",
            "t = 0.9, EM estimate = 101.03 ,SDE estimate = 99.1\n"
          ]
        }
      ]
    },
    {
      "cell_type": "markdown",
      "source": [
        "We can see for different values of t the numerical scheme and SDE scheme that their values are very close and usually with 3 dollars or so."
      ],
      "metadata": {
        "id": "zLzF9RTp_UaX"
      }
    },
    {
      "cell_type": "code",
      "source": [
        "#1.3.1.2\n",
        "t = 1\n",
        "estimates = []\n",
        "for i in range(M):\n",
        "  estimates.append(explicitSDE(t))\n",
        "np.mean(estimates)"
      ],
      "metadata": {
        "colab": {
          "base_uri": "https://localhost:8080/"
        },
        "id": "q8520ed-oeJt",
        "outputId": "325af6ad-7363-46dc-cc67-ecfe92549ee0"
      },
      "execution_count": null,
      "outputs": [
        {
          "output_type": "execute_result",
          "data": {
            "text/plain": [
              "99.00498337491679"
            ]
          },
          "metadata": {},
          "execution_count": 8
        }
      ]
    },
    {
      "cell_type": "code",
      "source": [
        "#1.3.2.1-2\n",
        "import scipy.stats as s\n",
        "import matplotlib.pyplot as plt\n",
        "\n",
        "def CallBS(r,sigma, S0, T, K):\n",
        "    d_plus = (np.log(S0/K) + (r + sigma ** 2 / 2) * T) / (sigma * np.sqrt(T))\n",
        "    d_minus = (np.log(S0/K) + (r - sigma ** 2 / 2) * T) / (sigma * np.sqrt(T))\n",
        "\n",
        "    left = S0 * s.norm.cdf(d_plus)\n",
        "    right = K * np.e ** (-r*T) * s.norm.cdf(d_minus)\n",
        "    return left - right\n",
        "\n",
        "def PutBS(r,sigma, S0, T, K):\n",
        "    d_plus = (np.log(S0/K) + (r + sigma ** 2 / 2) * T) / (sigma * np.sqrt(T))\n",
        "    d_minus = (np.log(S0/K) + (r - sigma ** 2 / 2) * T) / (sigma * np.sqrt(T))\n",
        "\n",
        "    right = S0 * s.norm.cdf(-d_plus)\n",
        "    left = K * np.e ** (-r*T) * s.norm.cdf(-d_minus)\n",
        "    return left - right\n",
        "\n",
        "strikes = np.arange(30,50,0.5)\n",
        "prices = []\n",
        "for strike in strikes:\n",
        "  prices.append(CallBS(r = 0, S0 = 40, T = 1, sigma = 0.1, K = strike))\n",
        "fig, ax  = plt.subplots()\n",
        "ax.plot(prices)\n",
        "ax.set_xlabel('Strike')\n",
        "ax.set_ylabel(\"Call Price\")\n",
        "ax.set_xticklabels(np.arange(28,52,2.5).astype('int'))\n"
      ],
      "metadata": {
        "colab": {
          "base_uri": "https://localhost:8080/",
          "height": 695
        },
        "id": "OzltZ79Do30S",
        "outputId": "f7b97e7b-5946-45c8-9439-0ecf4d72e903"
      },
      "execution_count": null,
      "outputs": [
        {
          "output_type": "stream",
          "name": "stderr",
          "text": [
            "<ipython-input-66-304274520f6f>:29: UserWarning: FixedFormatter should only be used together with FixedLocator\n",
            "  ax.set_xticklabels(np.arange(28,52,2.5).astype('int'))\n"
          ]
        },
        {
          "output_type": "execute_result",
          "data": {
            "text/plain": [
              "[Text(-5.0, 0, '28'),\n",
              " Text(0.0, 0, '30'),\n",
              " Text(5.0, 0, '33'),\n",
              " Text(10.0, 0, '35'),\n",
              " Text(15.0, 0, '38'),\n",
              " Text(20.0, 0, '40'),\n",
              " Text(25.0, 0, '43'),\n",
              " Text(30.0, 0, '45'),\n",
              " Text(35.0, 0, '48'),\n",
              " Text(40.0, 0, '50'),\n",
              " Text(45.0, 0, '')]"
            ]
          },
          "metadata": {},
          "execution_count": 66
        },
        {
          "output_type": "display_data",
          "data": {
            "text/plain": [
              "<Figure size 640x480 with 1 Axes>"
            ],
            "image/png": "[encoded data removed]"
          },
          "metadata": {}
        }
      ]
    },
    {
      "cell_type": "markdown",
      "source": [
        "As we can see in the graph above the call option is convex."
      ],
      "metadata": {
        "id": "_0oqi-y3_whP"
      }
    },
    {
      "cell_type": "code",
      "source": [
        "#1.3.2.3\n",
        "strikes = np.arange(35,56,5)\n",
        "sigmas = [0.2,0.3,0.4]\n",
        "Ts = [1,2]\n",
        "rs = [0.03,0.04,0.05]\n",
        "\n",
        "estimate_puts = []\n",
        "puts_parity = []\n",
        "for strike in strikes:\n",
        "  for sigma in sigmas:\n",
        "    for T in Ts:\n",
        "      for r in rs:\n",
        "        estimate_put = PutBS(r = r, S0 = 40, T = T, sigma = sigma, K = strike)\n",
        "        estimate_puts.append(estimate_put)\n",
        "\n",
        "        estimate_call = CallBS(r = r, S0 = 40, T = T, sigma = sigma, K = strike)\n",
        "        put_parity = estimate_call + strike * np.e ** (-r * T) - 40\n",
        "        puts_parity.append(put_parity)\n",
        "#The code below checks if the values of the BS estimate and put-call parity estimate are roughly close.\n",
        "print(f'Put-Call Parity Holds: {np.all(np.round(estimate_puts,3) == np.round(puts_parity,3))}')"
      ],
      "metadata": {
        "id": "n9yngKPzqEz7",
        "colab": {
          "base_uri": "https://localhost:8080/"
        },
        "outputId": "487f1c41-ea4a-4943-f94f-061d6ee458bd"
      },
      "execution_count": null,
      "outputs": [
        {
          "output_type": "stream",
          "name": "stdout",
          "text": [
            "Put-Call Parity Holds: True\n"
          ]
        }
      ]
    },
    {
      "cell_type": "markdown",
      "source": [
        "Given the output of the code above we can see that for all different inputs the put-call parity holds."
      ],
      "metadata": {
        "id": "2Pc0gkO7_13Z"
      }
    },
    {
      "cell_type": "code",
      "source": [
        "#1.4.1\n",
        "S0 = 40\n",
        "r = 0.03\n",
        "T = 1\n",
        "K_ATM = np.e **(r*T) * S0\n",
        "\n",
        "sigmas = np.arange(0.1,0.6,0.1)\n",
        "\n",
        "for sigma in sigmas:\n",
        "  BS_estimate = CallBS(r = r, sigma = sigma, S0 = S0, T = T, K = K_ATM)\n",
        "  other_estimate = 0.4 * S0 * sigma * np.sqrt(T)\n",
        "  print( [np.round(sigma,1), np.round(BS_estimate,2), np.round(other_estimate,2)])\n"
      ],
      "metadata": {
        "colab": {
          "base_uri": "https://localhost:8080/"
        },
        "id": "V2OK_9ipNLcJ",
        "outputId": "bbc7e141-04cc-47b1-907c-050f0d11c806"
      },
      "execution_count": null,
      "outputs": [
        {
          "output_type": "stream",
          "name": "stdout",
          "text": [
            "[0.1, 1.6, 1.6]\n",
            "[0.2, 3.19, 3.2]\n",
            "[0.3, 4.77, 4.8]\n",
            "[0.4, 6.34, 6.4]\n",
            "[0.5, 7.9, 8.0]\n"
          ]
        }
      ]
    },
    {
      "cell_type": "markdown",
      "source": [
        "From the code above it is evident that the BS estimate is close to the numerical estimate for different values of volatility."
      ],
      "metadata": {
        "id": "nYAvKRVIAPCy"
      }
    },
    {
      "cell_type": "code",
      "source": [
        "#1.4.2\n",
        "S0 = 40\n",
        "T = 1\n",
        "sigmas = np.arange(0.1,0.6,0.1)\n",
        "\n",
        "for sigma in sigmas:\n",
        "  deltaBS = s.norm.cdf(sigma/2 * np.sqrt(T))\n",
        "  other_delta = 0.5 + 0.2*sigma*np.sqrt(T)\n",
        "  print( [np.round(sigma,1), np.round(deltaBS,3), np.round(other_delta,3)])"
      ],
      "metadata": {
        "colab": {
          "base_uri": "https://localhost:8080/"
        },
        "id": "9vdz3jQFP0sM",
        "outputId": "b11c7f42-ddab-4545-9742-1212b7c27964"
      },
      "execution_count": null,
      "outputs": [
        {
          "output_type": "stream",
          "name": "stdout",
          "text": [
            "[0.1, 0.52, 0.52]\n",
            "[0.2, 0.54, 0.54]\n",
            "[0.3, 0.56, 0.56]\n",
            "[0.4, 0.579, 0.58]\n",
            "[0.5, 0.599, 0.6]\n"
          ]
        }
      ]
    },
    {
      "cell_type": "markdown",
      "source": [
        "From the code above it is evident that the BS estimate of Delta is close to the numerical estimate for different values of volatility."
      ],
      "metadata": {
        "id": "rx98qne9AvET"
      }
    },
    {
      "cell_type": "code",
      "source": [
        "S0 = 40\n",
        "T = 1\n",
        "sigmas = np.arange(0.1,0.6,0.1)\n",
        "\n",
        "for sigma in sigmas:\n",
        "  vegaBS = S0 * s.norm.pdf(sigma/2 * np.sqrt(T)) * np.sqrt(T)\n",
        "  other_vega = 0.4 * S0 * np.sqrt(T)\n",
        "  print( [np.round(sigma,1), np.round(vegaBS,3), np.round(other_vega,3)])"
      ],
      "metadata": {
        "colab": {
          "base_uri": "https://localhost:8080/"
        },
        "id": "9oMIck-KQm3Q",
        "outputId": "aee0acfc-02a7-4d1b-b927-8b04de0b8c35"
      },
      "execution_count": null,
      "outputs": [
        {
          "output_type": "stream",
          "name": "stdout",
          "text": [
            "[0.1, 15.938, 16.0]\n",
            "[0.2, 15.878, 16.0]\n",
            "[0.3, 15.779, 16.0]\n",
            "[0.4, 15.642, 16.0]\n",
            "[0.5, 15.467, 16.0]\n"
          ]
        }
      ]
    },
    {
      "cell_type": "markdown",
      "source": [
        "From the code above it is evident that the BS estimate of Vega is close to the numerical estimate for different values of volatility."
      ],
      "metadata": {
        "id": "xckCMP1MAzA2"
      }
    },
    {
      "cell_type": "markdown",
      "source": [
        "#### 2 Black-Scholes vs Bachelier"
      ],
      "metadata": {
        "id": "oE-0umlvtbHv"
      }
    },
    {
      "cell_type": "code",
      "source": [
        "def CallBach(r,sigmaB, S0, T, K):\n",
        "  first = (S0 - K) * s.norm.cdf((S0-K)/(sigmaB*np.sqrt(T)))\n",
        "  second = sigmaB * T * np.sqrt(T) * s.norm.pdf((S0-K)/(sigmaB*np.sqrt(T)))\n",
        "  return first + second"
      ],
      "metadata": {
        "id": "ahPflIh5uAU2"
      },
      "execution_count": null,
      "outputs": []
    },
    {
      "cell_type": "code",
      "source": [
        "r = 0\n",
        "sigmaB = 0.1\n",
        "S0 = 40\n",
        "sigma = sigmaB/S0\n",
        "K = 40\n",
        "T = 1\n",
        "\n",
        "bach_ATM = CallBach(r,sigmaB = sigmaB, S0 = S0, T= T, K = K)\n",
        "bs_ATM = CallBS(r,sigma,S0,T,K)\n",
        "\n",
        "value = bach_ATM - bs_ATM\n",
        "limit = S0/(24*np.sqrt(2*np.pi)) * (abs(sigmaB) ** 3) * (T ** (3/2))\n",
        "\n",
        "#Checks if the differnce in the Call Bachelier and Black Scholes is greater than zero\n",
        "#and less than the upper limit\n",
        "print(value >= 0)\n",
        "print(value <= limit)"
      ],
      "metadata": {
        "colab": {
          "base_uri": "https://localhost:8080/"
        },
        "id": "_4s_9AiqB_zs",
        "outputId": "075447d7-ad72-4c39-8b98-b913db5126b0"
      },
      "execution_count": null,
      "outputs": [
        {
          "output_type": "stream",
          "name": "stdout",
          "text": [
            "True\n",
            "True\n"
          ]
        }
      ]
    },
    {
      "cell_type": "markdown",
      "source": [
        "The code above shows that numerically the Bachelier and Blacks Scholes call option at the moeny is greater than zero and less than the specified limit."
      ],
      "metadata": {
        "id": "yVScSmMmBzhf"
      }
    },
    {
      "cell_type": "markdown",
      "source": [
        "#### 3 Pricing Asian Option in the Black-Scholes Model"
      ],
      "metadata": {
        "id": "wnugLi4BtbSM"
      }
    },
    {
      "cell_type": "code",
      "source": [
        "def CallAsian(r, sigma, S0, T, K, arithmetic = True):\n",
        "    Wpath = npr.choice([-1,1],int(N*T))\n",
        "    Sts = []\n",
        "    if arithmetic != True:\n",
        "      for i in range(len(Wpath)):\n",
        "        if i == 0:\n",
        "          St = S0\n",
        "        else:\n",
        "          St = S0 * np.e ** (sigma * sum(Wpath[0:i]) / np.sqrt(i) + (r-sigma**2/2)*(i/N/T))\n",
        "        Sts.append(St)\n",
        "      return np.e ** (-r*T) * (max([np.prod(Sts) ** (1 / len(Sts)) - K,0]))\n",
        "\n",
        "    for i in range(len(Wpath)):\n",
        "      if i == 0:\n",
        "        St = S0\n",
        "      else:\n",
        "        St = S0 * np.e ** (sigma * sum(Wpath[0:i]) / np.sqrt(i) + (r-sigma**2/2)*(i/N/T))\n",
        "      Sts.append(St)\n",
        "    return np.e ** (-r*T) * (max([np.sum(Sts) / len(Sts) - K,0]))\n",
        "\n",
        "CallAsian(0.03,0.1,40,1,35,arithmetic=False)"
      ],
      "metadata": {
        "id": "75OE6ElUuBH3",
        "colab": {
          "base_uri": "https://localhost:8080/"
        },
        "outputId": "f48ba311-956f-4230-bd1d-ae3314be538a"
      },
      "execution_count": 4,
      "outputs": [
        {
          "output_type": "execute_result",
          "data": {
            "text/plain": [
              "6.434239957930786"
            ]
          },
          "metadata": {},
          "execution_count": 4
        }
      ]
    },
    {
      "cell_type": "code",
      "source": [
        "from matplotlib import pyplot as plt\n",
        "strikes = np.arange(35,56,5)\n",
        "sigmas = [0.2,0.3,0.4]\n",
        "Ts = [1,2]\n",
        "rs = [0.03,0.04,0.05]\n",
        "\n",
        "arts_mean = []\n",
        "geos_mean = []\n",
        "diffs_mean = []\n",
        "\n",
        "for strike in strikes:\n",
        "  for sigma in sigmas:\n",
        "    for T in Ts:\n",
        "      for r in rs:\n",
        "        arts = []\n",
        "        geos = []\n",
        "        diffs = []\n",
        "        #In this case M is 200 as 10,000 is too computationally heavy for calculating so many different calls\n",
        "        for i in range(200):\n",
        "          art = CallAsian(r=r,sigma = sigma, S0 =40, T=T, K= strike)\n",
        "          geo = CallAsian(r=r,sigma = sigma, S0 =40, T=T, K= strike, arithmetic = False)\n",
        "          arts.append(art)\n",
        "          geos.append(geo)\n",
        "          diff = art - geo\n",
        "          diffs.append(diff)\n",
        "        arts_mean.append(np.mean(arts))\n",
        "        geos_mean.append(np.mean(geos))\n",
        "        diffs_mean.append(np.mean(diffs))\n",
        "\n",
        "fig, ax = plt.subplots(2,1, figsize = (12,10))\n",
        "ax[0].scatter(range(len(arts_mean)), arts_mean, label = \"Arithmetic Asian Call\")\n",
        "ax[0].scatter(range(len(geos_mean)),geos_mean, label = \"Geometric Asian Call\", color = 'red')\n",
        "ax[0].set_ylabel(\"Asian Call Price\")\n",
        "ax[0].legend()\n",
        "ax[1].scatter(range(len(diffs_mean)),diffs_mean)\n",
        "ax[1].plot(np.zeros(len(diffs_mean)), color = 'red')\n",
        "ax[1].set_title(\"Difference in Arithmetic and Geometric Asian Calls\")"
      ],
      "metadata": {
        "colab": {
          "base_uri": "https://localhost:8080/",
          "height": 902
        },
        "id": "De32NMke62Ld",
        "outputId": "c914f031-2edc-4ef6-ffe2-9610bd6ee8f8"
      },
      "execution_count": 12,
      "outputs": [
        {
          "output_type": "stream",
          "name": "stderr",
          "text": [
            "/usr/local/lib/python3.10/dist-packages/numpy/core/fromnumeric.py:88: RuntimeWarning: overflow encountered in reduce\n",
            "  return ufunc.reduce(obj, axis, dtype, out, **passkwargs)\n"
          ]
        },
        {
          "output_type": "execute_result",
          "data": {
            "text/plain": [
              "Text(0.5, 1.0, 'Difference in Arithmetic and Geometric Asian Calls')"
            ]
          },
          "metadata": {},
          "execution_count": 12
        },
        {
          "output_type": "display_data",
          "data": {
            "text/plain": [
              "<Figure size 1200x1000 with 2 Axes>"
            ],
            "image/png": "[encoded data removed]"
          },
          "metadata": {}
        }
      ]
    },
    {
      "cell_type": "markdown",
      "source": [
        "As we can see from the graphs above, the arithmetic and geometric Asian Call options are quite close in price estimation despite only using 200 simulations. There are some values where they vary a lot of up to 3 dollars, but this most likely do to low amounts of simulations."
      ],
      "metadata": {
        "id": "bPnBogh1CDdc"
      }
    },
    {
      "cell_type": "code",
      "source": [
        "arts = []\n",
        "geos = []\n",
        "for j in range(M):\n",
        "  art = CallAsian(r=0.01,sigma = 0.1, S0 =40, T=1, K= 35)\n",
        "  geo = CallAsian(r=0.01,sigma = 0.1, S0 =40, T=1, K= 35, arithmetic = False)\n",
        "  arts.append(art)\n",
        "  geos.append(geo)\n",
        "\n",
        "print(f'arithmetic Asian Call Mean {np.mean(arts)}')\n",
        "print(f'geometric Asian Call Mean {np.mean(geos)}')\n",
        "print(f'arithmetic CI: {[np.percentile(arts,2.5) , np.percentile(arts,97.5)]}')\n",
        "print(f'geometric CI: {[np.percentile(geos,2.5) , np.percentile(geos,97.5)]}')\n",
        "\n",
        "\n"
      ],
      "metadata": {
        "colab": {
          "base_uri": "https://localhost:8080/"
        },
        "id": "D9QdCw1OXKh6",
        "outputId": "c8c1f2d1-a5fc-42c5-f106-63979b32235f"
      },
      "execution_count": 13,
      "outputs": [
        {
          "output_type": "stream",
          "name": "stdout",
          "text": [
            "arithmetic Asian Call Mean 5.313328227669191\n",
            "geometric Asian Call Mean 5.194920337779708\n",
            "arithmetic CI: [0.0, 11.969230238881496]\n",
            "geometric CI: [0.0, 11.759440294969119]\n"
          ]
        }
      ]
    },
    {
      "cell_type": "markdown",
      "source": [
        "As we can see above the confidence interval for the geometric vs arithmetic Asian Call options is slightly smaller by about 0.2 dollars."
      ],
      "metadata": {
        "id": "IQt9yIjSCwiz"
      }
    },
    {
      "cell_type": "code",
      "source": [
        "CallBS(r=0.01,sigma = 0.1, S0 =40, T=1, K= 35)"
      ],
      "metadata": {
        "colab": {
          "base_uri": "https://localhost:8080/"
        },
        "id": "o1ZlDjgTZbD6",
        "outputId": "b75d5286-5562-429a-8ba9-e5dd87b915b7"
      },
      "execution_count": null,
      "outputs": [
        {
          "output_type": "execute_result",
          "data": {
            "text/plain": [
              "5.474383172641183"
            ]
          },
          "metadata": {},
          "execution_count": 67
        }
      ]
    },
    {
      "cell_type": "markdown",
      "source": [
        "The European Call option for CallBS is slightly more expensive than the Asian call option prices seen above. However, they are quite close and only differ by about 0.3 dollars."
      ],
      "metadata": {
        "id": "KbrKes-AC_Hf"
      }
    },
    {
      "cell_type": "markdown",
      "source": [
        "#### 4 Pricing Zero-Coupon Bond in the Vasicek Model"
      ],
      "metadata": {
        "id": "IJ2TIiW2tbgJ"
      }
    },
    {
      "cell_type": "code",
      "source": [
        "r0 = 0.05\n",
        "vol = 0.3\n",
        "a = 1\n",
        "b = 0.06\n",
        "T = 1\n",
        "\n",
        "def vasicek(r0,vol,a,b,T):\n",
        "  Wpath = npr.choice([-1,1],int(N*T))\n",
        "  rts = []\n",
        "  for i in range(len(Wpath)):\n",
        "    if i == 0:\n",
        "      rt = r0\n",
        "    else:\n",
        "      rt = rts[i-1] + a*(b-rts[i-1])/N + vol * (Wpath[i-1]/np.sqrt(N))\n",
        "    rts.append(rt)\n",
        "  return rts\n",
        "\n",
        "rtss = []\n",
        "terminal_rts = []\n",
        "for i in range(M):\n",
        "  rts = vasicek(r0,vol,a,b,T)\n",
        "  rtss.append(vasicek(r0,vol,a,b,T))\n",
        "  terminal_rts.append(rts[-1])\n",
        "\n",
        "print(np.mean(terminal_rts))\n",
        "print(np.std(terminal_rts))"
      ],
      "metadata": {
        "id": "HIYEsJThuB-4",
        "colab": {
          "base_uri": "https://localhost:8080/"
        },
        "outputId": "b8ee5c97-c349-4771-a86d-93619743fb4c"
      },
      "execution_count": 14,
      "outputs": [
        {
          "output_type": "stream",
          "name": "stdout",
          "text": [
            "0.054150378040908095\n",
            "0.19550672412890951\n"
          ]
        }
      ]
    },
    {
      "cell_type": "code",
      "source": [
        "r0 = 0.05\n",
        "vol = 0.3\n",
        "a = 2\n",
        "b = 0.04\n",
        "T = 1\n",
        "\n",
        "rtss = []\n",
        "terminal_rts = []\n",
        "for i in range(M):\n",
        "  rts = vasicek(r0,vol,a,b,T)\n",
        "  rtss.append(vasicek(r0,vol,a,b,T))\n",
        "  terminal_rts.append(rts[-1])\n",
        "\n",
        "print(np.mean(terminal_rts))\n",
        "print(np.std(terminal_rts))"
      ],
      "metadata": {
        "colab": {
          "base_uri": "https://localhost:8080/"
        },
        "id": "kKaxM0qXDxZP",
        "outputId": "68d14725-8dd0-43ee-dd9e-1d01b18b67b0"
      },
      "execution_count": 15,
      "outputs": [
        {
          "output_type": "stream",
          "name": "stdout",
          "text": [
            "0.03952731214074494\n",
            "0.14904877100417102\n"
          ]
        }
      ]
    },
    {
      "cell_type": "markdown",
      "source": [
        "In the vasicek model, b represents the terminal value of the interest rate and a represent how quickly the rate reverts to the mean rate. This can be seen as the terminal mean of $r_t$  equal b roughly. As a increases, the volatility of $r_t$ decreases as well, meaning $r_t$ reverts to the mean more often."
      ],
      "metadata": {
        "id": "6ppJB6XPDb5W"
      }
    },
    {
      "cell_type": "code",
      "source": [
        "r0 = 0.05\n",
        "vol = 0.3\n",
        "a = 1\n",
        "b = 0.06\n",
        "T = 1\n",
        "\n",
        "def zcb(r0,vol,a,b,T):\n",
        "  zcbs = []\n",
        "  for i in range(M):\n",
        "    rts =  vasicek(r0,vol,a,b,T)\n",
        "    price = np.e ** (-sum(rts)/N)\n",
        "    zcbs.append(price)\n",
        "  return np.mean(zcbs)\n",
        "zcb(r0,vol,a,b,T)"
      ],
      "metadata": {
        "colab": {
          "base_uri": "https://localhost:8080/"
        },
        "id": "GD5Softj5rIB",
        "outputId": "e83c2846-0638-4bfd-ecdd-91e9f35c02b4"
      },
      "execution_count": 16,
      "outputs": [
        {
          "output_type": "execute_result",
          "data": {
            "text/plain": [
              "0.9550957692158694"
            ]
          },
          "metadata": {},
          "execution_count": 16
        }
      ]
    },
    {
      "cell_type": "code",
      "source": [
        "ts = [0.5,1,2,5]\n",
        "r0 = 0.05\n",
        "vol = 0.3\n",
        "a = 1\n",
        "b = 0.06\n",
        "\n",
        "#prints price of zero coupon bond for different t.\n",
        "for t in ts:\n",
        "  print(zcb(r0,vol,a,b,t))"
      ],
      "metadata": {
        "colab": {
          "base_uri": "https://localhost:8080/"
        },
        "id": "gad6o3lJ7NM7",
        "outputId": "87c16d1f-c7cb-42eb-d0a4-13dfc3067760"
      },
      "execution_count": 17,
      "outputs": [
        {
          "output_type": "stream",
          "name": "stdout",
          "text": [
            "0.9752147246485012\n",
            "0.9560016776306122\n",
            "0.9311785807147488\n",
            "0.8735806690362031\n"
          ]
        }
      ]
    },
    {
      "cell_type": "code",
      "source": [
        "def explicitzcb(r0,vol,a,b,T):\n",
        "  E = 1 - np.e ** (-a*T)\n",
        "\n",
        "  first = -b*T\n",
        "  second = (b-r0) * (E)/a\n",
        "  third = vol ** 2 / (4*(a**3)) * (E ** 2)\n",
        "  fourth = vol ** 2  /(2 * (a ** 2)) * (T - E/a)\n",
        "\n",
        "  return np.e ** (first +second - third + fourth)\n",
        "\n",
        "ts = [0.5,1,2,5]\n",
        "r0 = 0.05\n",
        "vol = 0.3\n",
        "a = 1\n",
        "b = 0.06\n",
        "\n",
        "for t in ts:\n",
        "  estimate = zcb(r0,vol,a,b,t)\n",
        "  explicit = explicitzcb(r0,vol,a,b,t)\n",
        "  print(f'Estimated vs Explicit Zero Coupon Bond: {[np.round(estimate,2), np.round(explicit,2)]}')"
      ],
      "metadata": {
        "colab": {
          "base_uri": "https://localhost:8080/"
        },
        "id": "7t6o15pd7cQ9",
        "outputId": "19aed744-fd50-4967-c898-c723867cbbdc"
      },
      "execution_count": 18,
      "outputs": [
        {
          "output_type": "stream",
          "name": "stdout",
          "text": [
            "Estimated vs Explicit Zero Coupon Bond: [0.98, 0.98]\n",
            "Estimated vs Explicit Zero Coupon Bond: [0.95, 0.95]\n",
            "Estimated vs Explicit Zero Coupon Bond: [0.92, 0.93]\n",
            "Estimated vs Explicit Zero Coupon Bond: [0.88, 0.88]\n"
          ]
        }
      ]
    },
    {
      "cell_type": "markdown",
      "source": [
        "We can see above that the explicit and estimated zero coupon bond values are really close and differ by only 0.01."
      ],
      "metadata": {
        "id": "MQyn-ULLEyEb"
      }
    }
  ]
}