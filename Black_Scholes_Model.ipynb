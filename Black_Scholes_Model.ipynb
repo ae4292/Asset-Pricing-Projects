{
 "cells": [
  {
   "cell_type": "code",
   "execution_count": 52,
   "metadata": {},
   "outputs": [],
   "source": [
    "import numpy as np\n",
    "import matplotlib.pyplot as plt\n",
    "import pandas as pd\n",
    "import statsmodels.api as sm\n",
    "from scipy.stats import norm\n",
    "import yfinance"
   ]
  },
  {
   "cell_type": "code",
   "execution_count": 47,
   "metadata": {},
   "outputs": [
    {
     "data": {
      "text/plain": [
       "64.82356648961803"
      ]
     },
     "execution_count": 47,
     "metadata": {},
     "output_type": "execute_result"
    }
   ],
   "source": [
    "\n",
    "def price(S,K,t,r,sigma, call = True):\n",
    "    d1 = (np.log(S/K) + (r +.5*sigma**2)*t)/(sigma * np.sqrt(t))\n",
    "    d2 = d1 - sigma*np.sqrt(t)\n",
    "\n",
    "    Call_price = S * norm.cdf(d1,0,1) - K * np.exp(-r*t)*norm.cdf(d2,0,1)\n",
    "    Put_price = K * np.exp(-r*t)* norm.cdf(-d2,0,1) - S*norm.cdf(-d1,0,1)\n",
    "    if call == True:\n",
    "        return Call_price\n",
    "    else:\n",
    "        return Put_price\n",
    "\n",
    "price(110,50,1,.1,.36715)"
   ]
  },
  {
   "cell_type": "code",
   "execution_count": 69,
   "metadata": {},
   "outputs": [
    {
     "data": {
      "text/plain": [
       "0.00017824420292875817"
      ]
     },
     "execution_count": 69,
     "metadata": {},
     "output_type": "execute_result"
    }
   ],
   "source": [
    "stock = \"SPY\"\n",
    "value = yfinance.Ticker(stock).history(period=\"1y\")['Close'][-1]\n",
    "K = 420\n",
    "r = yfinance.Ticker(\"^VNX\").history(period=\"1y\")['Close'][-1]\n",
    "t = 1\n",
    "def bs_vega(S, K, T, r, sigma):\n",
    "    d1 = (np.log(S / K) + (r + 0.5 * sigma ** 2) * T) / (sigma * np.sqrt(T))\n",
    "    return S * norm.pdf(d1) * np.sqrt(T)\n",
    "def find_vol(target_value, S, K, T, r, *args):\n",
    "    MAX_ITERATIONS = 200\n",
    "    PRECISION = 1.0e-5\n",
    "    sigma = 0.5\n",
    "    for i in range(0, MAX_ITERATIONS):\n",
    "        price = price(S, K, T, r, sigma)\n",
    "        vega = bs_vega(S, K, T, r, sigma)\n",
    "        diff = target_value - price  # our root\n",
    "        if (abs(diff) < PRECISION):\n",
    "            return sigma\n",
    "        sigma = sigma + diff/vega # f(x) / f'(x)\n",
    "    return sigma\n",
    "\n"
   ]
  }
 ],
 "metadata": {
  "kernelspec": {
   "display_name": "myenv",
   "language": "python",
   "name": "python3"
  },
  "language_info": {
   "codemirror_mode": {
    "name": "ipython",
    "version": 3
   },
   "file_extension": ".py",
   "mimetype": "text/x-python",
   "name": "python",
   "nbconvert_exporter": "python",
   "pygments_lexer": "ipython3",
   "version": "3.9.13"
  },
  "orig_nbformat": 4
 },
 "nbformat": 4,
 "nbformat_minor": 2
}
